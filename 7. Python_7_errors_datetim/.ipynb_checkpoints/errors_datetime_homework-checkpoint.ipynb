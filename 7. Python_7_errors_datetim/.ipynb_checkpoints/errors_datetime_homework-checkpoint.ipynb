{
 "cells": [
  {
   "cell_type": "markdown",
   "metadata": {},
   "source": [
    "**Задание 1**"
   ]
  },
  {
   "cell_type": "markdown",
   "metadata": {},
   "source": [
    "Печатные газеты использовали свой формат дат для каждого выпуска. Для каждой газеты из списка напишите формат указанной даты для перевода в объект datetime:\n",
    "The Moscow Times - Wednesday, October 2, 2002\n",
    "The Guardian - Friday, 11.10.13\n",
    "Daily News - Thursday, 18 August 1977"
   ]
  },
  {
   "cell_type": "markdown",
   "metadata": {},
   "source": [
    "**Решение**"
   ]
  },
  {
   "cell_type": "code",
   "execution_count": 14,
   "metadata": {},
   "outputs": [],
   "source": [
    "from datetime import datetime as dt"
   ]
  },
  {
   "cell_type": "code",
   "execution_count": 29,
   "metadata": {},
   "outputs": [
    {
     "name": "stdout",
     "output_type": "stream",
     "text": [
      "2002-10-02 00:00:00\n",
      "2013-10-11 00:00:00\n",
      "1977-08-18 00:00:00\n"
     ]
    }
   ],
   "source": [
    "the_moscow_times = 'Wednesday, October 2, 2002'\n",
    "the_guardian = 'Friday, 11.10.13'\n",
    "daily_news = 'Thursday, 18 August 1977'\n",
    "\n",
    "the_moscow_time_datetime = dt.strptime(the_moscow_times, '%A, %B %d, %Y')\n",
    "the_guardian_datetime = dt.strptime(the_guardian, '%A, %d.%m.%y') #но надо уточнить, что идет в начале, может быть не день, а год.\n",
    "daily_news_datetime = dt.strptime(daily_news, '%A, %d %B %Y')\n",
    "\n",
    "print(the_moscow_time_datetime)\n",
    "print(the_guardian_datetime)\n",
    "print(daily_news_datetime)"
   ]
  },
  {
   "cell_type": "markdown",
   "metadata": {},
   "source": [
    "**Задание 2**"
   ]
  },
  {
   "cell_type": "markdown",
   "metadata": {},
   "source": [
    "Дан поток дат в формате YYYY-MM-DD, в которых встречаются некорректные значения:\n",
    "stream = [‘2018-04-02’, ‘2018-02-29’, ‘2018-19-02’]\n",
    "\n",
    "Напишите функцию, которая проверяет эти даты на корректность. Т. е. для каждой даты возвращает True (дата корректна) или False (некорректная дата)."
   ]
  },
  {
   "cell_type": "markdown",
   "metadata": {},
   "source": [
    "**Решение**"
   ]
  },
  {
   "cell_type": "code",
   "execution_count": 44,
   "metadata": {},
   "outputs": [],
   "source": [
    "from datetime import datetime as dt"
   ]
  },
  {
   "cell_type": "code",
   "execution_count": 75,
   "metadata": {},
   "outputs": [
    {
     "name": "stdout",
     "output_type": "stream",
     "text": [
      "2018-04-02 True\n",
      "2018-02-29 False\n",
      "2018-19-02 False\n",
      "Количество ошибок в дате: 2\n"
     ]
    }
   ],
   "source": [
    "stream = ['2018-04-02', '2018-02-29', '2018-19-02']\n",
    "invalid_date_count = 0\n",
    "\n",
    "for date in stream:\n",
    "    try:\n",
    "        dt.strptime(date, '%Y-%m-%d')\n",
    "        print(date, True)\n",
    "    except:\n",
    "        invalid_date_count += 1\n",
    "        print(date, False)\n",
    "\n",
    "print(f'Количество ошибок в дате: {invalid_date_count}')"
   ]
  },
  {
   "cell_type": "markdown",
   "metadata": {},
   "source": [
    " **Задание 3**"
   ]
  },
  {
   "cell_type": "markdown",
   "metadata": {},
   "source": [
    "Напишите функцию date_range, которая возвращает список дат за период от start_date до end_date. Даты должны вводиться в формате YYYY-MM-DD. В случае неверного формата или при start_date > end_date должен возвращаться пустой список."
   ]
  },
  {
   "cell_type": "code",
   "execution_count": 147,
   "metadata": {},
   "outputs": [],
   "source": [
    "from datetime import datetime, timedelta"
   ]
  },
  {
   "cell_type": "code",
   "execution_count": 164,
   "metadata": {},
   "outputs": [
    {
     "name": "stdout",
     "output_type": "stream",
     "text": [
      "Введите дату начала отсчета в формате YYYY-MM-DD: 2020-10-10\n",
      "Введите конечную дату в формате YYYY-MM-DD: 2020-10-15\n",
      "2020-10-10 00:00:00\n",
      "2020-10-11 00:00:00\n",
      "2020-10-12 00:00:00\n",
      "2020-10-13 00:00:00\n",
      "2020-10-14 00:00:00\n",
      "2020-10-15 00:00:00\n"
     ]
    }
   ],
   "source": [
    "try:\n",
    "    start_date = datetime.strptime(input('Введите дату начала отсчета в формате YYYY-MM-DD: '), '%Y-%m-%d')\n",
    "    end_date = datetime.strptime(input('Введите конечную дату в формате YYYY-MM-DD: '), '%Y-%m-%d')\n",
    "    date_range()\n",
    "except:\n",
    "    print('Вы ввели некорректный формат данных! Проверьте и повторите ввод.')\n",
    "\n",
    "\n",
    "def date_range():\n",
    "    total_days = end_date - start_date\n",
    "    if total_days.days <= 0:\n",
    "        print (\"Конечная дата будет ранее, чем начальная. Проверьте вводимые даты!\")\n",
    "    for i in range(total_days.days + 1):\n",
    "        print(start_date + timedelta(i))"
   ]
  }
 ],
 "metadata": {
  "kernelspec": {
   "display_name": "Python 3",
   "language": "python",
   "name": "python3"
  },
  "language_info": {
   "codemirror_mode": {
    "name": "ipython",
    "version": 3
   },
   "file_extension": ".py",
   "mimetype": "text/x-python",
   "name": "python",
   "nbconvert_exporter": "python",
   "pygments_lexer": "ipython3",
   "version": "3.7.4"
  }
 },
 "nbformat": 4,
 "nbformat_minor": 2
}
