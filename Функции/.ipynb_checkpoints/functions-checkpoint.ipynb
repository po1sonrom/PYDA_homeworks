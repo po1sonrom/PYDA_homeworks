{
 "cells": [
  {
   "cell_type": "markdown",
   "metadata": {},
   "source": [
    "Вы работаете секретарем и вам постоянно приходят различные документы. Вы должны быть очень внимательны, чтобы не потерять ни один документ. Каталог документов хранится в следующем виде:"
   ]
  },
  {
   "cell_type": "code",
   "execution_count": 6,
   "metadata": {},
   "outputs": [],
   "source": [
    "documents = [\n",
    "    {'type': 'passport', 'number': '2207 876234', 'name': 'Василий Гупкин'},\n",
    "    {'type': 'invoice', 'number': '11-2', 'name': 'Геннадий Покемонов'},\n",
    "    {'type': 'insurance', 'number': '10006', 'name': 'Аристарх Павлов'}\n",
    "]"
   ]
  },
  {
   "cell_type": "markdown",
   "metadata": {},
   "source": [
    "Перечень полок, на которых находятся документы хранится в следующем виде:"
   ]
  },
  {
   "cell_type": "code",
   "execution_count": 7,
   "metadata": {},
   "outputs": [],
   "source": [
    "directories = {\n",
    "    '1': ['2207 876234', '11-2'],\n",
    "    '2': ['10006'],\n",
    "    '3': []\n",
    "}"
   ]
  },
  {
   "cell_type": "markdown",
   "metadata": {},
   "source": [
    "Необходимо реализовать пользовательские команды (внимание! это не название функций, которые должны быть выразительными, а команды, которые вводит пользователь, чтобы получить необходимый результат):\n",
    "  \n",
    "- p – people – команда, которая спросит номер документа и выведет имя человека, которому он принадлежит;  \n",
    "- s – shelf – команда, которая спросит номер документа и выведет номер полки, на которой он находится  \n",
    "*Правильно обработайте ситуации, когда пользователь будет вводить несуществующий документ*.\n",
    "- l – list – команда, которая выведет список всех документов в формате   \n",
    "**passport \"2207 876234\" \"Василий Гупкин\"**  \n",
    "- as – add shelf – команда, которая спросит номер новой полки и добавит ее в перечень. *Предусмотрите случай, когда пользователь добавляет полку, которая уже существует*.\n",
    "- d – delete – команда, которая спросит номер документа и удалит его из каталога и из перечня полок. *Предусмотрите сценарий, когда пользователь вводит несуществующий документ*;  \n",
    "- m – move – команда, которая спросит номер документа и целевую полку и переместит его с текущей полки на целевую. *Корректно обработайте кейсы, когда пользователь пытается переместить несуществующий документ или переместить документ на несуществующую полку*;  \n",
    "- a – add – команда, которая добавит новый документ в каталог и в перечень полок, спросив его номер, тип, имя владельца и номер полки, на котором он будет храниться. *Корректно обработайте ситуацию, когда пользователь будет пытаться добавить документ на несуществующую полку*."
   ]
  },
  {
   "cell_type": "code",
   "execution_count": 161,
   "metadata": {},
   "outputs": [
    {
     "name": "stdout",
     "output_type": "stream",
     "text": [
      "Введите пользовательскую команду или q для выхода:q\n"
     ]
    }
   ],
   "source": [
    "def main_def():\n",
    "    \"\"\"\n",
    "    p или people – команда, которая спросит номер документа и выведет имя человека, которому он принадлежит;\n",
    "    s или shelf – команда, которая спросит номер документа и выведет номер полки, на которой он находится;\n",
    "    l или list – команда, которая выведет список всех документов в формате: passport \"2207 876234\" \"Василий Гупкин\"\n",
    "    as или add shelf – команда, которая спросит номер новой полки и добавит ее в перечень;\n",
    "    d или delete – команда, которая спросит номер документа и удалит его из каталога и из перечня полок;\n",
    "    m или move – команда, которая спросит номер документа и целевую полку и переместит его с текущей полки на целевую;\n",
    "    a или add – команда, которая добавит новый документ в каталог и в перечень полок, спросив его номер, тип, имя владельца и номер полки, на котором он будет храниться.\n",
    "    q или quit - для выхода\n",
    "    \"\"\"\n",
    "    while True:\n",
    "        user_input = input('Введите пользовательскую команду или q для выхода:')\n",
    "        if user_input == 'p' or user_input == 'people':\n",
    "            people()\n",
    "        elif user_input == 's' or user_input == 'shelf':\n",
    "            shelf()\n",
    "        elif user_input == 'l' or user_input == 'list':\n",
    "            list_()\n",
    "        elif user_input == 'as' or user_input == 'add shelf':\n",
    "            add_shelf()\n",
    "        elif user_input == 'd' or user_input == 'delete':\n",
    "            delete()            \n",
    "        elif user_input == 'm' or user_input == 'move':\n",
    "            move()     \n",
    "        elif user_input == 'a' or user_input == 'add':\n",
    "            add()\n",
    "        elif user_input == 'q' or user_input == 'quit':\n",
    "            break\n",
    "        else:\n",
    "            print('Ошибка! Была введена неизвестная буква / слово.')\n",
    "\n",
    "def people():  \n",
    "    doc_number = input('Введите номер документа: ')\n",
    "    for document in documents:\n",
    "        if document['number'] == doc_number:\n",
    "            print('ФИО: ', document['name'])\n",
    "        \n",
    "def list_():\n",
    "    for document in documents:\n",
    "        print('Тип документа: ', document['type'], 'Номер: ', document['number'], 'ФИО: ', document['name'])\n",
    "    \n",
    "def shelf():\n",
    "    user_doc_number = input('Введите номер документа: ')\n",
    "    for shelf_number, numbers in directories.items():\n",
    "        if user_doc_number in numbers:\n",
    "            print('Номер полки хранения документа: ', shelf_number)\n",
    "            break\n",
    "        else:\n",
    "            print('Ой! На полке ', shelf_number, ' нет такого документа')\n",
    "\n",
    "def add_shelf():\n",
    "    new_shelf = input('Введите номер новой полки: ')\n",
    "    directories.setdefault(new_shelf, [])\n",
    "\n",
    "def add():\n",
    "    type_ = input('Введите тип документа: ')\n",
    "    doc_number = input('Введите номер документа: ')\n",
    "    owner = input('Введите имя владельца: ')\n",
    "    doc_shelf = input('Введите номер полки документа: ')\n",
    "    new_document = {'type':type_, 'number': doc_number, 'name': owner}\n",
    "    documents.append(new_document)\n",
    "    if directory not in directories:\n",
    "        directories.setdefault(doc_shelf, [])\n",
    "        directories[directory].append(doc_number)\n",
    "\n",
    "def move():\n",
    "    user_number = input('Введите номер документа: ')\n",
    "    goal_directory = input('Введите номер полки куда переместить документ: ')\n",
    "    for directory, numbers in directories.items():\n",
    "        if user_number in numbers:\n",
    "            numbers.remove(user_number)\n",
    "            directories[goal_directory].append(user_number)\n",
    "\n",
    "def delete():\n",
    "    user_number = input('Введите номер документа: ')\n",
    "    for directory, numbers in directories.items():\n",
    "        if user_number in numbers:\n",
    "            numbers.remove(user_number)\n",
    "    for document in documents:\n",
    "        if document['number'] == user_number:\n",
    "            documents.remove(document)\n",
    "\n",
    "main_def()"
   ]
  },
  {
   "cell_type": "code",
   "execution_count": null,
   "metadata": {},
   "outputs": [],
   "source": []
  }
 ],
 "metadata": {
  "kernelspec": {
   "display_name": "Python 3",
   "language": "python",
   "name": "python3"
  },
  "language_info": {
   "codemirror_mode": {
    "name": "ipython",
    "version": 3
   },
   "file_extension": ".py",
   "mimetype": "text/x-python",
   "name": "python",
   "nbconvert_exporter": "python",
   "pygments_lexer": "ipython3",
   "version": "3.7.4"
  }
 },
 "nbformat": 4,
 "nbformat_minor": 2
}
