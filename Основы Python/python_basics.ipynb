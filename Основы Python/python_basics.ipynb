{
 "cells": [
  {
   "cell_type": "markdown",
   "metadata": {},
   "source": [
    "**Задание 1**. Даны 2 строки: *long_phrase* и *short_phrase*. \n",
    "Напишите код, который проверяет действительно ли длинная фраза *long_phrase* длиннее короткой *short_phrase*. И выводит *True* или *False* в зависимости от результата сравнения."
   ]
  },
  {
   "cell_type": "code",
   "execution_count": 1,
   "metadata": {},
   "outputs": [],
   "source": [
    "long_phrase = 'Насколько проще было бы писать программы, если бы не заказчики'\n",
    "short_phrase = '640Кб должно хватить для любых задач. Билл Гейтс (по легенде)'"
   ]
  },
  {
   "cell_type": "code",
   "execution_count": 2,
   "metadata": {},
   "outputs": [
    {
     "name": "stdout",
     "output_type": "stream",
     "text": [
      "True\n"
     ]
    }
   ],
   "source": [
    "print(len(long_phrase) > len(short_phrase)"
   ]
  },
  {
   "cell_type": "markdown",
   "metadata": {},
   "source": [
    "**Задание 2**. Дано значение объема файла в байтах (*в мегабайте 2^20 байт*). Напишите перевод этого значения в мегабайты в формате: \"*Объем файла равен 213.68Mb*\"."
   ]
  },
  {
   "cell_type": "code",
   "execution_count": 3,
   "metadata": {},
   "outputs": [
    {
     "name": "stdout",
     "output_type": "stream",
     "text": [
      "Введите объем в байтах: 100000\n",
      "Объем в мегабайтах будет округлен и равен:  0.0954\n"
     ]
    }
   ],
   "source": [
    "megabytes = round(((int(input('Введите объем в байтах: '))) / 2**20), 4)\n",
    "print('Объем в мегабайтах будет округлен и равен: ', megabytes)"
   ]
  },
  {
   "cell_type": "markdown",
   "metadata": {},
   "source": [
    "**Задание 3**. Разработать приложение для определения знака зодиака по дате рождения. Пример:\n",
    "\n",
    "Введите месяц: март\n",
    "\n",
    "Введите число: 6\n",
    "\n",
    "Вывод:\n",
    "Рыбы"
   ]
  },
  {
   "cell_type": "code",
   "execution_count": 4,
   "metadata": {},
   "outputs": [
    {
     "name": "stdout",
     "output_type": "stream",
     "text": [
      "Введите Ваш месяц рождения: 6\n",
      "А теперь, введите день Вашего рождения: 19\n",
      "Вы близнецы!\n"
     ]
    }
   ],
   "source": [
    "month_of_birth = int(input('Введите Ваш месяц рождения: '))\n",
    "day_of_birth = int(input('А теперь, введите день Вашего рождения: '))\n",
    "if (month_of_birth == 1 and 1 <= day_of_birth <= 20) or (month_of_birth == 12 and 22 <= day_of_birth <= 31):\n",
    "    print('Вы козерог!')\n",
    "elif (month_of_birth == 2 and 1 <= day_of_birth <= 19) or (month_of_birth == 1 and 21 <= day_of_birth <= 31):\n",
    "    print('Вы водолей!')\n",
    "elif (month_of_birth == 3 and 1 <= day_of_birth <= 20) or (month_of_birth == 2 and 20 <= day_of_birth <= 29):\n",
    "    print('Вы рыбы!')\n",
    "elif (month_of_birth == 4 and 1 <= day_of_birth <= 20) or (month_of_birth == 3 and 21 <= day_of_birth <= 31):\n",
    "    print('Вы овен!')\n",
    "elif (month_of_birth == 5 and 1 <= day_of_birth <= 21) or (month_of_birth == 4 and 21 <= day_of_birth <= 30):\n",
    "    print('Вы телец!')\n",
    "elif (month_of_birth == 6 and 1 <= day_of_birth <= 21) or (month_of_birth == 5 and 22 <= day_of_birth <= 31):\n",
    "    print('Вы близнецы!')\n",
    "elif (month_of_birth == 7 and 1 <= day_of_birth <= 22) or (month_of_birth == 6 and 22 <= day_of_birth <= 30):\n",
    "    print('Вы рак!')\n",
    "elif (month_of_birth == 8 and 1 <= day_of_birth <= 23) or (month_of_birth == 7 and 23 <= day_of_birth <= 31):\n",
    "    print('Вы лев!')\n",
    "elif (month_of_birth == 9 and 1 <= day_of_birth <= 22) or (month_of_birth == 8 and 24 <= day_of_birth <= 31):\n",
    "    print('Вы дева!')\n",
    "elif (month_of_birth == 10 and 1 <= day_of_birth <= 22) or (month_of_birth == 9 and 23 <= day_of_birth <= 30):\n",
    "    print('Вы весы!')\n",
    "elif (month_of_birth == 11 and 1 <= day_of_birth <= 22) or (month_of_birth == 10 and 23 <= day_of_birth <= 31):\n",
    "    print('Вы скорпион!')\n",
    "elif (month_of_birth == 12 and 1 <= day_of_birth <= 21) or (month_of_birth == 11 and 22 <= day_of_birth <= 30):\n",
    "    print('Вы стрелец!')\n",
    "else: \n",
    "    print('Упс, что-то пошло не так! Будте осторожны при вводе месяца и дня!')\n",
    "    \n",
    "#21.01 – 19.02 Водолей\n",
    "#20.02 – 20.03 Рыбы   \n",
    "#21.03 – 20.04 Овен\n",
    "#21.04 – 21.05 Телец\n",
    "#22.05 – 21.06 Близнецы\n",
    "#22.06 – 22.07 Рак\n",
    "#23.07 – 23.08 Лев\n",
    "#24.08 – 22.09 Дева\n",
    "#23.09 – 22.10 Весы\n",
    "#23.10 – 22.11 Скорпион\n",
    "#22.11 – 21.12 Стрелец\n",
    "#22.12 – 20.01 Козерог"
   ]
  },
  {
   "cell_type": "markdown",
   "metadata": {},
   "source": [
    "**Задание 4**. Нужно разработать приложение для финансового планирования.\n",
    "Приложение учитывает сколько уходит на ипотеку, \"на жизнь\" и сколько нужно отложить на пенсию.\n",
    "Пользователь вводит:\n",
    "- заработанную плату в месяц.\n",
    "- сколько процентов от ЗП уходит на ипотеку.\n",
    "- сколько процентов от ЗП уходит \"на жизнь\".\n",
    "- сколько раз приходит премия в год.\n",
    "\n",
    "Остальная часть заработанной платы откладывается на пенсию.\n",
    "\n",
    "Также пользователю приходит премия в размере зарплаты, от которой половина уходит на отпуск, а вторая половина откладывается.\n",
    "\n",
    "Программа должна учитывать сколько премий было в год.\n",
    "\n",
    "Нужно вывести сколько денег тратит пользователь на ипотеку и сколько он накопит за год.\n",
    "\n",
    "Пример:\n",
    "\n",
    "Введите заработанную плату в месяц: 100000\n",
    "\n",
    "Введите сколько процентов уходит на ипотеку: 30\n",
    "\n",
    "Введите сколько процентов уходит на жизнь: 50\n",
    "\n",
    "Введите количество премий за год: 2\n",
    "\n",
    "Вывод:\n",
    "На ипотеку было потрачено: 360000 рублей\n",
    "Было накоплено: 340000 рублей"
   ]
  },
  {
   "cell_type": "code",
   "execution_count": 5,
   "metadata": {},
   "outputs": [
    {
     "name": "stdout",
     "output_type": "stream",
     "text": [
      "Введите заработанную плату в месяц: 100000\n",
      "Введите сколько процентов уходит на ипотеку: 30\n",
      "Введите сколько процентов уходит на жизнь: 50\n",
      "Введите количество премий за год: 2\n",
      "На ипотеку за год потрачено:  360000.0 За год было накоплено:  440000.0\n"
     ]
    }
   ],
   "source": [
    "salary = int(input('Введите заработанную плату в месяц: '))\n",
    "mortgage_percent = int(input('Введите сколько процентов уходит на ипотеку: ')) / 100\n",
    "if 0 < mortgage_percent < 1:\n",
    "    True\n",
    "else:\n",
    "    print('Вы ввели недопустимое количество процентов!')\n",
    "life_percent = int(input('Введите сколько процентов уходит на жизнь: ')) / 100\n",
    "if (0 < life_percent < 1) and ((1 - mortgage_percent) >= life_percent):\n",
    "    True\n",
    "else:\n",
    "     print('Вы ввели недопустимое количество процентов!')\n",
    "count_of_bonus = int(input('Введите количество премий за год: '))\n",
    "year_mortgage = 12 * salary * mortgage_percent\n",
    "total_spent = (12 * salary * life_percent) + year_mortgage\n",
    "year_capital = ((12 * salary) + (count_of_bonus * salary)) - total_spent\n",
    "print('На ипотеку за год потрачено: ', year_mortgage, 'За год было накоплено: ', year_capital)\n",
    "\n",
    "#в примере должно быть накоплено 440 000 рублей!? ошибка?\n",
    "#всего получено: 1 200 000 (зарплата) + 200 000 (бонусы) = 1 400 000\n",
    "#всего потрачено: 360 000 (ипотека) + 600 000 (жизнь) = 960 000\n",
    "#накоплено: 1 400 000 - 960 000 = 440 000"
   ]
  },
  {
   "cell_type": "code",
   "execution_count": null,
   "metadata": {},
   "outputs": [],
   "source": []
  }
 ],
 "metadata": {
  "kernelspec": {
   "display_name": "Python 3",
   "language": "python",
   "name": "python3"
  },
  "language_info": {
   "codemirror_mode": {
    "name": "ipython",
    "version": 3
   },
   "file_extension": ".py",
   "mimetype": "text/x-python",
   "name": "python",
   "nbconvert_exporter": "python",
   "pygments_lexer": "ipython3",
   "version": "3.7.4"
  }
 },
 "nbformat": 4,
 "nbformat_minor": 2
}
