{
 "cells": [
  {
   "cell_type": "markdown",
   "metadata": {},
   "source": [
    "# Функции в Pandas\n",
    "Примеры из презентации"
   ]
  },
  {
   "cell_type": "code",
   "execution_count": 1,
   "metadata": {},
   "outputs": [],
   "source": [
    "import pandas as pd"
   ]
  },
  {
   "cell_type": "code",
   "execution_count": 2,
   "metadata": {},
   "outputs": [
    {
     "data": {
      "text/html": [
       "<div>\n",
       "<style scoped>\n",
       "    .dataframe tbody tr th:only-of-type {\n",
       "        vertical-align: middle;\n",
       "    }\n",
       "\n",
       "    .dataframe tbody tr th {\n",
       "        vertical-align: top;\n",
       "    }\n",
       "\n",
       "    .dataframe thead th {\n",
       "        text-align: right;\n",
       "    }\n",
       "</style>\n",
       "<table border=\"1\" class=\"dataframe\">\n",
       "  <thead>\n",
       "    <tr style=\"text-align: right;\">\n",
       "      <th></th>\n",
       "      <th>user_id</th>\n",
       "      <th>clicks</th>\n",
       "      <th>orders</th>\n",
       "    </tr>\n",
       "  </thead>\n",
       "  <tbody>\n",
       "    <tr>\n",
       "      <td>0</td>\n",
       "      <td>1</td>\n",
       "      <td>163</td>\n",
       "      <td>2</td>\n",
       "    </tr>\n",
       "    <tr>\n",
       "      <td>1</td>\n",
       "      <td>2</td>\n",
       "      <td>130</td>\n",
       "      <td>4</td>\n",
       "    </tr>\n",
       "    <tr>\n",
       "      <td>2</td>\n",
       "      <td>3</td>\n",
       "      <td>97</td>\n",
       "      <td>0</td>\n",
       "    </tr>\n",
       "  </tbody>\n",
       "</table>\n",
       "</div>"
      ],
      "text/plain": [
       "   user_id  clicks  orders\n",
       "0        1     163       2\n",
       "1        2     130       4\n",
       "2        3      97       0"
      ]
     },
     "execution_count": 2,
     "metadata": {},
     "output_type": "execute_result"
    }
   ],
   "source": [
    "df = pd.DataFrame({'user_id': [1, 2, 3], 'clicks': [163, 130, 97], 'orders': [2, 4, 0]})\n",
    "df"
   ]
  },
  {
   "cell_type": "code",
   "execution_count": 3,
   "metadata": {
    "scrolled": true
   },
   "outputs": [
    {
     "data": {
      "text/html": [
       "<div>\n",
       "<style scoped>\n",
       "    .dataframe tbody tr th:only-of-type {\n",
       "        vertical-align: middle;\n",
       "    }\n",
       "\n",
       "    .dataframe tbody tr th {\n",
       "        vertical-align: top;\n",
       "    }\n",
       "\n",
       "    .dataframe thead th {\n",
       "        text-align: right;\n",
       "    }\n",
       "</style>\n",
       "<table border=\"1\" class=\"dataframe\">\n",
       "  <thead>\n",
       "    <tr style=\"text-align: right;\">\n",
       "      <th></th>\n",
       "      <th>user_id</th>\n",
       "      <th>clicks</th>\n",
       "      <th>orders</th>\n",
       "      <th>calculated</th>\n",
       "    </tr>\n",
       "  </thead>\n",
       "  <tbody>\n",
       "    <tr>\n",
       "      <td>0</td>\n",
       "      <td>1</td>\n",
       "      <td>163</td>\n",
       "      <td>2</td>\n",
       "      <td>False</td>\n",
       "    </tr>\n",
       "    <tr>\n",
       "      <td>1</td>\n",
       "      <td>2</td>\n",
       "      <td>130</td>\n",
       "      <td>4</td>\n",
       "      <td>False</td>\n",
       "    </tr>\n",
       "    <tr>\n",
       "      <td>2</td>\n",
       "      <td>3</td>\n",
       "      <td>97</td>\n",
       "      <td>0</td>\n",
       "      <td>True</td>\n",
       "    </tr>\n",
       "  </tbody>\n",
       "</table>\n",
       "</div>"
      ],
      "text/plain": [
       "   user_id  clicks  orders  calculated\n",
       "0        1     163       2       False\n",
       "1        2     130       4       False\n",
       "2        3      97       0        True"
      ]
     },
     "execution_count": 3,
     "metadata": {},
     "output_type": "execute_result"
    }
   ],
   "source": [
    "df = pd.DataFrame({'user_id': [1, 2, 3], 'clicks': [163, 130, 97], 'orders': [2, 4, 0], 'calculated': [False, False, True]})\n",
    "df[['user_id', 'clicks', 'orders', 'calculated']]"
   ]
  },
  {
   "cell_type": "code",
   "execution_count": 4,
   "metadata": {},
   "outputs": [],
   "source": [
    "def watcher(param):\n",
    "    \"\"\"Мне только посмотреть\"\"\"\n",
    "    return param == 0"
   ]
  },
  {
   "cell_type": "code",
   "execution_count": 5,
   "metadata": {},
   "outputs": [
    {
     "data": {
      "text/html": [
       "<div>\n",
       "<style scoped>\n",
       "    .dataframe tbody tr th:only-of-type {\n",
       "        vertical-align: middle;\n",
       "    }\n",
       "\n",
       "    .dataframe tbody tr th {\n",
       "        vertical-align: top;\n",
       "    }\n",
       "\n",
       "    .dataframe thead th {\n",
       "        text-align: right;\n",
       "    }\n",
       "</style>\n",
       "<table border=\"1\" class=\"dataframe\">\n",
       "  <thead>\n",
       "    <tr style=\"text-align: right;\">\n",
       "      <th></th>\n",
       "      <th>user_id</th>\n",
       "      <th>clicks</th>\n",
       "      <th>orders</th>\n",
       "      <th>calculated</th>\n",
       "      <th>watcher</th>\n",
       "    </tr>\n",
       "  </thead>\n",
       "  <tbody>\n",
       "    <tr>\n",
       "      <td>0</td>\n",
       "      <td>1</td>\n",
       "      <td>163</td>\n",
       "      <td>2</td>\n",
       "      <td>False</td>\n",
       "      <td>False</td>\n",
       "    </tr>\n",
       "    <tr>\n",
       "      <td>1</td>\n",
       "      <td>2</td>\n",
       "      <td>130</td>\n",
       "      <td>4</td>\n",
       "      <td>False</td>\n",
       "      <td>False</td>\n",
       "    </tr>\n",
       "    <tr>\n",
       "      <td>2</td>\n",
       "      <td>3</td>\n",
       "      <td>97</td>\n",
       "      <td>0</td>\n",
       "      <td>True</td>\n",
       "      <td>True</td>\n",
       "    </tr>\n",
       "  </tbody>\n",
       "</table>\n",
       "</div>"
      ],
      "text/plain": [
       "   user_id  clicks  orders  calculated  watcher\n",
       "0        1     163       2       False    False\n",
       "1        2     130       4       False    False\n",
       "2        3      97       0        True     True"
      ]
     },
     "execution_count": 5,
     "metadata": {},
     "output_type": "execute_result"
    }
   ],
   "source": [
    "df['watcher'] = df['orders'].apply(watcher)\n",
    "df"
   ]
  },
  {
   "cell_type": "markdown",
   "metadata": {},
   "source": [
    "Применяем метод apply к одному столбцу. Сейчас в переменную функции передаются значения одного столбца"
   ]
  },
  {
   "cell_type": "code",
   "execution_count": 6,
   "metadata": {},
   "outputs": [],
   "source": [
    "def conversion(row):\n",
    "    \"\"\"Подсчет конверсии переходов в покупки\"\"\"\n",
    "    return row['orders'] / row['clicks']"
   ]
  },
  {
   "cell_type": "markdown",
   "metadata": {},
   "source": [
    "### Как потестировать функцию со значениями одной строки"
   ]
  },
  {
   "cell_type": "code",
   "execution_count": 7,
   "metadata": {},
   "outputs": [
    {
     "data": {
      "text/plain": [
       "0    0.01227\n",
       "dtype: float64"
      ]
     },
     "execution_count": 7,
     "metadata": {},
     "output_type": "execute_result"
    }
   ],
   "source": [
    "row1 = pd.DataFrame({'clicks': [163], \n",
    "                     'orders': [2], \n",
    "                     'user_id': [1]})\n",
    "conversion(row1)"
   ]
  },
  {
   "cell_type": "markdown",
   "metadata": {},
   "source": [
    "Применяем метод apply к датафрейму. В переменную функции передаются строки целиком"
   ]
  },
  {
   "cell_type": "code",
   "execution_count": 8,
   "metadata": {},
   "outputs": [
    {
     "data": {
      "text/html": [
       "<div>\n",
       "<style scoped>\n",
       "    .dataframe tbody tr th:only-of-type {\n",
       "        vertical-align: middle;\n",
       "    }\n",
       "\n",
       "    .dataframe tbody tr th {\n",
       "        vertical-align: top;\n",
       "    }\n",
       "\n",
       "    .dataframe thead th {\n",
       "        text-align: right;\n",
       "    }\n",
       "</style>\n",
       "<table border=\"1\" class=\"dataframe\">\n",
       "  <thead>\n",
       "    <tr style=\"text-align: right;\">\n",
       "      <th></th>\n",
       "      <th>user_id</th>\n",
       "      <th>clicks</th>\n",
       "      <th>orders</th>\n",
       "    </tr>\n",
       "  </thead>\n",
       "  <tbody>\n",
       "    <tr>\n",
       "      <td>0</td>\n",
       "      <td>1</td>\n",
       "      <td>163</td>\n",
       "      <td>2</td>\n",
       "    </tr>\n",
       "    <tr>\n",
       "      <td>1</td>\n",
       "      <td>2</td>\n",
       "      <td>130</td>\n",
       "      <td>4</td>\n",
       "    </tr>\n",
       "    <tr>\n",
       "      <td>2</td>\n",
       "      <td>3</td>\n",
       "      <td>97</td>\n",
       "      <td>0</td>\n",
       "    </tr>\n",
       "  </tbody>\n",
       "</table>\n",
       "</div>"
      ],
      "text/plain": [
       "   user_id  clicks  orders\n",
       "0        1     163       2\n",
       "1        2     130       4\n",
       "2        3      97       0"
      ]
     },
     "execution_count": 8,
     "metadata": {},
     "output_type": "execute_result"
    }
   ],
   "source": [
    "df = pd.DataFrame({'user_id': [1, 2, 3], 'clicks': [163, 130, 97], 'orders': [2, 4, 0]})\n",
    "df[['user_id', 'clicks', 'orders']]"
   ]
  },
  {
   "cell_type": "code",
   "execution_count": 9,
   "metadata": {},
   "outputs": [],
   "source": [
    "df['conversion'] = df.apply(conversion, axis=1)"
   ]
  },
  {
   "cell_type": "code",
   "execution_count": 10,
   "metadata": {},
   "outputs": [
    {
     "data": {
      "text/html": [
       "<div>\n",
       "<style scoped>\n",
       "    .dataframe tbody tr th:only-of-type {\n",
       "        vertical-align: middle;\n",
       "    }\n",
       "\n",
       "    .dataframe tbody tr th {\n",
       "        vertical-align: top;\n",
       "    }\n",
       "\n",
       "    .dataframe thead th {\n",
       "        text-align: right;\n",
       "    }\n",
       "</style>\n",
       "<table border=\"1\" class=\"dataframe\">\n",
       "  <thead>\n",
       "    <tr style=\"text-align: right;\">\n",
       "      <th></th>\n",
       "      <th>user_id</th>\n",
       "      <th>clicks</th>\n",
       "      <th>orders</th>\n",
       "      <th>conversion</th>\n",
       "    </tr>\n",
       "  </thead>\n",
       "  <tbody>\n",
       "    <tr>\n",
       "      <td>0</td>\n",
       "      <td>1</td>\n",
       "      <td>163</td>\n",
       "      <td>2</td>\n",
       "      <td>0.012270</td>\n",
       "    </tr>\n",
       "    <tr>\n",
       "      <td>1</td>\n",
       "      <td>2</td>\n",
       "      <td>130</td>\n",
       "      <td>4</td>\n",
       "      <td>0.030769</td>\n",
       "    </tr>\n",
       "    <tr>\n",
       "      <td>2</td>\n",
       "      <td>3</td>\n",
       "      <td>97</td>\n",
       "      <td>0</td>\n",
       "      <td>0.000000</td>\n",
       "    </tr>\n",
       "  </tbody>\n",
       "</table>\n",
       "</div>"
      ],
      "text/plain": [
       "   user_id  clicks  orders  conversion\n",
       "0        1     163       2    0.012270\n",
       "1        2     130       4    0.030769\n",
       "2        3      97       0    0.000000"
      ]
     },
     "execution_count": 10,
     "metadata": {},
     "output_type": "execute_result"
    }
   ],
   "source": [
    "df[['user_id', 'clicks', 'orders', 'conversion']]"
   ]
  },
  {
   "cell_type": "markdown",
   "metadata": {},
   "source": [
    "### Анализ рекламных кампаний"
   ]
  },
  {
   "cell_type": "code",
   "execution_count": 11,
   "metadata": {},
   "outputs": [],
   "source": [
    "import pandas as pd"
   ]
  },
  {
   "cell_type": "code",
   "execution_count": 12,
   "metadata": {
    "scrolled": true
   },
   "outputs": [
    {
     "data": {
      "text/html": [
       "<div>\n",
       "<style scoped>\n",
       "    .dataframe tbody tr th:only-of-type {\n",
       "        vertical-align: middle;\n",
       "    }\n",
       "\n",
       "    .dataframe tbody tr th {\n",
       "        vertical-align: top;\n",
       "    }\n",
       "\n",
       "    .dataframe thead th {\n",
       "        text-align: right;\n",
       "    }\n",
       "</style>\n",
       "<table border=\"1\" class=\"dataframe\">\n",
       "  <thead>\n",
       "    <tr style=\"text-align: right;\">\n",
       "      <th></th>\n",
       "      <th>Название группы</th>\n",
       "      <th>Фраза (с минус-словами)</th>\n",
       "      <th>Продуктивность</th>\n",
       "      <th>ID объявления</th>\n",
       "      <th>Заголовок</th>\n",
       "      <th>Текст</th>\n",
       "      <th>Ссылка</th>\n",
       "    </tr>\n",
       "  </thead>\n",
       "  <tbody>\n",
       "    <tr>\n",
       "      <td>0</td>\n",
       "      <td>мрт менделеевская</td>\n",
       "      <td>\"!мрт !менделеевская\"</td>\n",
       "      <td>4.5</td>\n",
       "      <td>2101704995</td>\n",
       "      <td>МРТ на Менделеевской от 2000₽</td>\n",
       "      <td>24 часа. МРТ в день обращения. Консультация вр...</td>\n",
       "      <td>https://awesome-site.ru/?utm_source=yandex&amp;utm...</td>\n",
       "    </tr>\n",
       "    <tr>\n",
       "      <td>1</td>\n",
       "      <td>мрт цао</td>\n",
       "      <td>\"мрт менделеевская\"</td>\n",
       "      <td>4.5</td>\n",
       "      <td>2101704995</td>\n",
       "      <td>МРТ на Менделеевской от 2000₽</td>\n",
       "      <td>24 часа. МРТ в день обращения. Консультация вр...</td>\n",
       "      <td>https://awesome-site.ru/?utm_source=yandex&amp;utm...</td>\n",
       "    </tr>\n",
       "    <tr>\n",
       "      <td>2</td>\n",
       "      <td>мрт цао</td>\n",
       "      <td>мрт менделеевская -головы -позвоночника -сдела...</td>\n",
       "      <td>7.4</td>\n",
       "      <td>2101704995</td>\n",
       "      <td>МРТ на Менделеевской от 2000₽</td>\n",
       "      <td>24 часа. МРТ в день обращения. Консультация вр...</td>\n",
       "      <td>https://awesome-site.ru/?utm_source=yandex&amp;utm...</td>\n",
       "    </tr>\n",
       "    <tr>\n",
       "      <td>3</td>\n",
       "      <td>мрт цао</td>\n",
       "      <td>\"!мрт !цао\"</td>\n",
       "      <td>5.0</td>\n",
       "      <td>2101704999</td>\n",
       "      <td>МРТ в ЦАО от 2000₽. Звоните!</td>\n",
       "      <td>24 часа. МРТ в день обращения. Консультация вр...</td>\n",
       "      <td>https://awesome-site.ru/?utm_source=yandex&amp;utm...</td>\n",
       "    </tr>\n",
       "    <tr>\n",
       "      <td>4</td>\n",
       "      <td>мрт сао</td>\n",
       "      <td>\"мрт цао\"</td>\n",
       "      <td>5.0</td>\n",
       "      <td>2101704999</td>\n",
       "      <td>МРТ в ЦАО от 2000₽. Звоните!</td>\n",
       "      <td>24 часа. МРТ в день обращения. Консультация вр...</td>\n",
       "      <td>https://awesome-site.ru/?utm_source=yandex&amp;utm...</td>\n",
       "    </tr>\n",
       "  </tbody>\n",
       "</table>\n",
       "</div>"
      ],
      "text/plain": [
       "     Название группы                            Фраза (с минус-словами)  \\\n",
       "0  мрт менделеевская                              \"!мрт !менделеевская\"   \n",
       "1            мрт цао                                \"мрт менделеевская\"   \n",
       "2            мрт цао  мрт менделеевская -головы -позвоночника -сдела...   \n",
       "3            мрт цао                                        \"!мрт !цао\"   \n",
       "4            мрт сао                                          \"мрт цао\"   \n",
       "\n",
       "   Продуктивность  ID объявления                      Заголовок  \\\n",
       "0             4.5     2101704995  МРТ на Менделеевской от 2000₽   \n",
       "1             4.5     2101704995  МРТ на Менделеевской от 2000₽   \n",
       "2             7.4     2101704995  МРТ на Менделеевской от 2000₽   \n",
       "3             5.0     2101704999   МРТ в ЦАО от 2000₽. Звоните!   \n",
       "4             5.0     2101704999   МРТ в ЦАО от 2000₽. Звоните!   \n",
       "\n",
       "                                               Текст  \\\n",
       "0  24 часа. МРТ в день обращения. Консультация вр...   \n",
       "1  24 часа. МРТ в день обращения. Консультация вр...   \n",
       "2  24 часа. МРТ в день обращения. Консультация вр...   \n",
       "3  24 часа. МРТ в день обращения. Консультация вр...   \n",
       "4  24 часа. МРТ в день обращения. Консультация вр...   \n",
       "\n",
       "                                              Ссылка  \n",
       "0  https://awesome-site.ru/?utm_source=yandex&utm...  \n",
       "1  https://awesome-site.ru/?utm_source=yandex&utm...  \n",
       "2  https://awesome-site.ru/?utm_source=yandex&utm...  \n",
       "3  https://awesome-site.ru/?utm_source=yandex&utm...  \n",
       "4  https://awesome-site.ru/?utm_source=yandex&utm...  "
      ]
     },
     "execution_count": 12,
     "metadata": {},
     "output_type": "execute_result"
    }
   ],
   "source": [
    "stats = pd.read_excel('ad_campaigns.xlsx')\n",
    "stats.head()"
   ]
  },
  {
   "cell_type": "code",
   "execution_count": 13,
   "metadata": {
    "scrolled": true
   },
   "outputs": [
    {
     "data": {
      "text/html": [
       "<div>\n",
       "<style scoped>\n",
       "    .dataframe tbody tr th:only-of-type {\n",
       "        vertical-align: middle;\n",
       "    }\n",
       "\n",
       "    .dataframe tbody tr th {\n",
       "        vertical-align: top;\n",
       "    }\n",
       "\n",
       "    .dataframe thead th {\n",
       "        text-align: right;\n",
       "    }\n",
       "</style>\n",
       "<table border=\"1\" class=\"dataframe\">\n",
       "  <thead>\n",
       "    <tr style=\"text-align: right;\">\n",
       "      <th></th>\n",
       "      <th>group</th>\n",
       "      <th>phrase</th>\n",
       "      <th>effect</th>\n",
       "      <th>ad_id</th>\n",
       "      <th>title</th>\n",
       "      <th>text</th>\n",
       "      <th>link</th>\n",
       "    </tr>\n",
       "  </thead>\n",
       "  <tbody>\n",
       "    <tr>\n",
       "      <td>0</td>\n",
       "      <td>мрт менделеевская</td>\n",
       "      <td>\"!мрт !менделеевская\"</td>\n",
       "      <td>4.5</td>\n",
       "      <td>2101704995</td>\n",
       "      <td>МРТ на Менделеевской от 2000₽</td>\n",
       "      <td>24 часа. МРТ в день обращения. Консультация вр...</td>\n",
       "      <td>https://awesome-site.ru/?utm_source=yandex&amp;utm...</td>\n",
       "    </tr>\n",
       "    <tr>\n",
       "      <td>1</td>\n",
       "      <td>мрт цао</td>\n",
       "      <td>\"мрт менделеевская\"</td>\n",
       "      <td>4.5</td>\n",
       "      <td>2101704995</td>\n",
       "      <td>МРТ на Менделеевской от 2000₽</td>\n",
       "      <td>24 часа. МРТ в день обращения. Консультация вр...</td>\n",
       "      <td>https://awesome-site.ru/?utm_source=yandex&amp;utm...</td>\n",
       "    </tr>\n",
       "    <tr>\n",
       "      <td>2</td>\n",
       "      <td>мрт цао</td>\n",
       "      <td>мрт менделеевская -головы -позвоночника -сдела...</td>\n",
       "      <td>7.4</td>\n",
       "      <td>2101704995</td>\n",
       "      <td>МРТ на Менделеевской от 2000₽</td>\n",
       "      <td>24 часа. МРТ в день обращения. Консультация вр...</td>\n",
       "      <td>https://awesome-site.ru/?utm_source=yandex&amp;utm...</td>\n",
       "    </tr>\n",
       "    <tr>\n",
       "      <td>3</td>\n",
       "      <td>мрт цао</td>\n",
       "      <td>\"!мрт !цао\"</td>\n",
       "      <td>5.0</td>\n",
       "      <td>2101704999</td>\n",
       "      <td>МРТ в ЦАО от 2000₽. Звоните!</td>\n",
       "      <td>24 часа. МРТ в день обращения. Консультация вр...</td>\n",
       "      <td>https://awesome-site.ru/?utm_source=yandex&amp;utm...</td>\n",
       "    </tr>\n",
       "    <tr>\n",
       "      <td>4</td>\n",
       "      <td>мрт сао</td>\n",
       "      <td>\"мрт цао\"</td>\n",
       "      <td>5.0</td>\n",
       "      <td>2101704999</td>\n",
       "      <td>МРТ в ЦАО от 2000₽. Звоните!</td>\n",
       "      <td>24 часа. МРТ в день обращения. Консультация вр...</td>\n",
       "      <td>https://awesome-site.ru/?utm_source=yandex&amp;utm...</td>\n",
       "    </tr>\n",
       "  </tbody>\n",
       "</table>\n",
       "</div>"
      ],
      "text/plain": [
       "               group                                             phrase  \\\n",
       "0  мрт менделеевская                              \"!мрт !менделеевская\"   \n",
       "1            мрт цао                                \"мрт менделеевская\"   \n",
       "2            мрт цао  мрт менделеевская -головы -позвоночника -сдела...   \n",
       "3            мрт цао                                        \"!мрт !цао\"   \n",
       "4            мрт сао                                          \"мрт цао\"   \n",
       "\n",
       "   effect       ad_id                          title  \\\n",
       "0     4.5  2101704995  МРТ на Менделеевской от 2000₽   \n",
       "1     4.5  2101704995  МРТ на Менделеевской от 2000₽   \n",
       "2     7.4  2101704995  МРТ на Менделеевской от 2000₽   \n",
       "3     5.0  2101704999   МРТ в ЦАО от 2000₽. Звоните!   \n",
       "4     5.0  2101704999   МРТ в ЦАО от 2000₽. Звоните!   \n",
       "\n",
       "                                                text  \\\n",
       "0  24 часа. МРТ в день обращения. Консультация вр...   \n",
       "1  24 часа. МРТ в день обращения. Консультация вр...   \n",
       "2  24 часа. МРТ в день обращения. Консультация вр...   \n",
       "3  24 часа. МРТ в день обращения. Консультация вр...   \n",
       "4  24 часа. МРТ в день обращения. Консультация вр...   \n",
       "\n",
       "                                                link  \n",
       "0  https://awesome-site.ru/?utm_source=yandex&utm...  \n",
       "1  https://awesome-site.ru/?utm_source=yandex&utm...  \n",
       "2  https://awesome-site.ru/?utm_source=yandex&utm...  \n",
       "3  https://awesome-site.ru/?utm_source=yandex&utm...  \n",
       "4  https://awesome-site.ru/?utm_source=yandex&utm...  "
      ]
     },
     "execution_count": 13,
     "metadata": {},
     "output_type": "execute_result"
    }
   ],
   "source": [
    "stats.columns = ['group', 'phrase', 'effect', 'ad_id', 'title', 'text', 'link']\n",
    "stats.head()"
   ]
  },
  {
   "cell_type": "markdown",
   "metadata": {},
   "source": [
    "### Lambda-функции\n",
    "Хотим посчитать распределение количества слов в столбце с фразами"
   ]
  },
  {
   "cell_type": "code",
   "execution_count": 14,
   "metadata": {},
   "outputs": [],
   "source": [
    "phrase = 'МРТ на Менделеевской от 2000'"
   ]
  },
  {
   "cell_type": "code",
   "execution_count": 15,
   "metadata": {},
   "outputs": [
    {
     "data": {
      "text/plain": [
       "5"
      ]
     },
     "execution_count": 15,
     "metadata": {},
     "output_type": "execute_result"
    }
   ],
   "source": [
    "len(phrase.split(' '))"
   ]
  },
  {
   "cell_type": "code",
   "execution_count": 17,
   "metadata": {},
   "outputs": [],
   "source": [
    "def word_count(phrase):\n",
    "    return len(phrase.split(' '))"
   ]
  },
  {
   "cell_type": "code",
   "execution_count": 24,
   "metadata": {},
   "outputs": [
    {
     "data": {
      "text/html": [
       "<div>\n",
       "<style scoped>\n",
       "    .dataframe tbody tr th:only-of-type {\n",
       "        vertical-align: middle;\n",
       "    }\n",
       "\n",
       "    .dataframe tbody tr th {\n",
       "        vertical-align: top;\n",
       "    }\n",
       "\n",
       "    .dataframe thead th {\n",
       "        text-align: right;\n",
       "    }\n",
       "</style>\n",
       "<table border=\"1\" class=\"dataframe\">\n",
       "  <thead>\n",
       "    <tr style=\"text-align: right;\">\n",
       "      <th></th>\n",
       "      <th>group</th>\n",
       "      <th>phrase</th>\n",
       "      <th>effect</th>\n",
       "      <th>ad_id</th>\n",
       "      <th>title</th>\n",
       "      <th>text</th>\n",
       "      <th>link</th>\n",
       "      <th>word_count</th>\n",
       "    </tr>\n",
       "  </thead>\n",
       "  <tbody>\n",
       "    <tr>\n",
       "      <td>0</td>\n",
       "      <td>мрт менделеевская</td>\n",
       "      <td>\"!мрт !менделеевская\"</td>\n",
       "      <td>4.5</td>\n",
       "      <td>2101704995</td>\n",
       "      <td>МРТ на Менделеевской от 2000₽</td>\n",
       "      <td>24 часа. МРТ в день обращения. Консультация вр...</td>\n",
       "      <td>https://awesome-site.ru/?utm_source=yandex&amp;utm...</td>\n",
       "      <td>2</td>\n",
       "    </tr>\n",
       "    <tr>\n",
       "      <td>1</td>\n",
       "      <td>мрт цао</td>\n",
       "      <td>\"мрт менделеевская\"</td>\n",
       "      <td>4.5</td>\n",
       "      <td>2101704995</td>\n",
       "      <td>МРТ на Менделеевской от 2000₽</td>\n",
       "      <td>24 часа. МРТ в день обращения. Консультация вр...</td>\n",
       "      <td>https://awesome-site.ru/?utm_source=yandex&amp;utm...</td>\n",
       "      <td>2</td>\n",
       "    </tr>\n",
       "    <tr>\n",
       "      <td>2</td>\n",
       "      <td>мрт цао</td>\n",
       "      <td>мрт менделеевская -головы -позвоночника -сдела...</td>\n",
       "      <td>7.4</td>\n",
       "      <td>2101704995</td>\n",
       "      <td>МРТ на Менделеевской от 2000₽</td>\n",
       "      <td>24 часа. МРТ в день обращения. Консультация вр...</td>\n",
       "      <td>https://awesome-site.ru/?utm_source=yandex&amp;utm...</td>\n",
       "      <td>6</td>\n",
       "    </tr>\n",
       "    <tr>\n",
       "      <td>3</td>\n",
       "      <td>мрт цао</td>\n",
       "      <td>\"!мрт !цао\"</td>\n",
       "      <td>5.0</td>\n",
       "      <td>2101704999</td>\n",
       "      <td>МРТ в ЦАО от 2000₽. Звоните!</td>\n",
       "      <td>24 часа. МРТ в день обращения. Консультация вр...</td>\n",
       "      <td>https://awesome-site.ru/?utm_source=yandex&amp;utm...</td>\n",
       "      <td>2</td>\n",
       "    </tr>\n",
       "    <tr>\n",
       "      <td>4</td>\n",
       "      <td>мрт сао</td>\n",
       "      <td>\"мрт цао\"</td>\n",
       "      <td>5.0</td>\n",
       "      <td>2101704999</td>\n",
       "      <td>МРТ в ЦАО от 2000₽. Звоните!</td>\n",
       "      <td>24 часа. МРТ в день обращения. Консультация вр...</td>\n",
       "      <td>https://awesome-site.ru/?utm_source=yandex&amp;utm...</td>\n",
       "      <td>2</td>\n",
       "    </tr>\n",
       "  </tbody>\n",
       "</table>\n",
       "</div>"
      ],
      "text/plain": [
       "               group                                             phrase  \\\n",
       "0  мрт менделеевская                              \"!мрт !менделеевская\"   \n",
       "1            мрт цао                                \"мрт менделеевская\"   \n",
       "2            мрт цао  мрт менделеевская -головы -позвоночника -сдела...   \n",
       "3            мрт цао                                        \"!мрт !цао\"   \n",
       "4            мрт сао                                          \"мрт цао\"   \n",
       "\n",
       "   effect       ad_id                          title  \\\n",
       "0     4.5  2101704995  МРТ на Менделеевской от 2000₽   \n",
       "1     4.5  2101704995  МРТ на Менделеевской от 2000₽   \n",
       "2     7.4  2101704995  МРТ на Менделеевской от 2000₽   \n",
       "3     5.0  2101704999   МРТ в ЦАО от 2000₽. Звоните!   \n",
       "4     5.0  2101704999   МРТ в ЦАО от 2000₽. Звоните!   \n",
       "\n",
       "                                                text  \\\n",
       "0  24 часа. МРТ в день обращения. Консультация вр...   \n",
       "1  24 часа. МРТ в день обращения. Консультация вр...   \n",
       "2  24 часа. МРТ в день обращения. Консультация вр...   \n",
       "3  24 часа. МРТ в день обращения. Консультация вр...   \n",
       "4  24 часа. МРТ в день обращения. Консультация вр...   \n",
       "\n",
       "                                                link  word_count  \n",
       "0  https://awesome-site.ru/?utm_source=yandex&utm...           2  \n",
       "1  https://awesome-site.ru/?utm_source=yandex&utm...           2  \n",
       "2  https://awesome-site.ru/?utm_source=yandex&utm...           6  \n",
       "3  https://awesome-site.ru/?utm_source=yandex&utm...           2  \n",
       "4  https://awesome-site.ru/?utm_source=yandex&utm...           2  "
      ]
     },
     "execution_count": 24,
     "metadata": {},
     "output_type": "execute_result"
    }
   ],
   "source": [
    "stats['word_count'] = stats['phrase'].apply(lambda x: len(x.split(' ')))\n",
    "stats.head()"
   ]
  },
  {
   "cell_type": "code",
   "execution_count": 19,
   "metadata": {},
   "outputs": [
    {
     "data": {
      "text/html": [
       "<div>\n",
       "<style scoped>\n",
       "    .dataframe tbody tr th:only-of-type {\n",
       "        vertical-align: middle;\n",
       "    }\n",
       "\n",
       "    .dataframe tbody tr th {\n",
       "        vertical-align: top;\n",
       "    }\n",
       "\n",
       "    .dataframe thead th {\n",
       "        text-align: right;\n",
       "    }\n",
       "</style>\n",
       "<table border=\"1\" class=\"dataframe\">\n",
       "  <thead>\n",
       "    <tr style=\"text-align: right;\">\n",
       "      <th></th>\n",
       "      <th>group</th>\n",
       "      <th>phrase</th>\n",
       "      <th>effect</th>\n",
       "      <th>ad_id</th>\n",
       "      <th>title</th>\n",
       "      <th>text</th>\n",
       "      <th>link</th>\n",
       "      <th>word_count</th>\n",
       "    </tr>\n",
       "  </thead>\n",
       "  <tbody>\n",
       "    <tr>\n",
       "      <td>0</td>\n",
       "      <td>мрт менделеевская</td>\n",
       "      <td>\"!мрт !менделеевская\"</td>\n",
       "      <td>4.5</td>\n",
       "      <td>2101704995</td>\n",
       "      <td>МРТ на Менделеевской от 2000₽</td>\n",
       "      <td>24 часа. МРТ в день обращения. Консультация вр...</td>\n",
       "      <td>https://awesome-site.ru/?utm_source=yandex&amp;utm...</td>\n",
       "      <td>2</td>\n",
       "    </tr>\n",
       "    <tr>\n",
       "      <td>1</td>\n",
       "      <td>мрт цао</td>\n",
       "      <td>\"мрт менделеевская\"</td>\n",
       "      <td>4.5</td>\n",
       "      <td>2101704995</td>\n",
       "      <td>МРТ на Менделеевской от 2000₽</td>\n",
       "      <td>24 часа. МРТ в день обращения. Консультация вр...</td>\n",
       "      <td>https://awesome-site.ru/?utm_source=yandex&amp;utm...</td>\n",
       "      <td>2</td>\n",
       "    </tr>\n",
       "    <tr>\n",
       "      <td>2</td>\n",
       "      <td>мрт цао</td>\n",
       "      <td>мрт менделеевская -головы -позвоночника -сдела...</td>\n",
       "      <td>7.4</td>\n",
       "      <td>2101704995</td>\n",
       "      <td>МРТ на Менделеевской от 2000₽</td>\n",
       "      <td>24 часа. МРТ в день обращения. Консультация вр...</td>\n",
       "      <td>https://awesome-site.ru/?utm_source=yandex&amp;utm...</td>\n",
       "      <td>6</td>\n",
       "    </tr>\n",
       "    <tr>\n",
       "      <td>3</td>\n",
       "      <td>мрт цао</td>\n",
       "      <td>\"!мрт !цао\"</td>\n",
       "      <td>5.0</td>\n",
       "      <td>2101704999</td>\n",
       "      <td>МРТ в ЦАО от 2000₽. Звоните!</td>\n",
       "      <td>24 часа. МРТ в день обращения. Консультация вр...</td>\n",
       "      <td>https://awesome-site.ru/?utm_source=yandex&amp;utm...</td>\n",
       "      <td>2</td>\n",
       "    </tr>\n",
       "    <tr>\n",
       "      <td>4</td>\n",
       "      <td>мрт сао</td>\n",
       "      <td>\"мрт цао\"</td>\n",
       "      <td>5.0</td>\n",
       "      <td>2101704999</td>\n",
       "      <td>МРТ в ЦАО от 2000₽. Звоните!</td>\n",
       "      <td>24 часа. МРТ в день обращения. Консультация вр...</td>\n",
       "      <td>https://awesome-site.ru/?utm_source=yandex&amp;utm...</td>\n",
       "      <td>2</td>\n",
       "    </tr>\n",
       "  </tbody>\n",
       "</table>\n",
       "</div>"
      ],
      "text/plain": [
       "               group                                             phrase  \\\n",
       "0  мрт менделеевская                              \"!мрт !менделеевская\"   \n",
       "1            мрт цао                                \"мрт менделеевская\"   \n",
       "2            мрт цао  мрт менделеевская -головы -позвоночника -сдела...   \n",
       "3            мрт цао                                        \"!мрт !цао\"   \n",
       "4            мрт сао                                          \"мрт цао\"   \n",
       "\n",
       "   effect       ad_id                          title  \\\n",
       "0     4.5  2101704995  МРТ на Менделеевской от 2000₽   \n",
       "1     4.5  2101704995  МРТ на Менделеевской от 2000₽   \n",
       "2     7.4  2101704995  МРТ на Менделеевской от 2000₽   \n",
       "3     5.0  2101704999   МРТ в ЦАО от 2000₽. Звоните!   \n",
       "4     5.0  2101704999   МРТ в ЦАО от 2000₽. Звоните!   \n",
       "\n",
       "                                                text  \\\n",
       "0  24 часа. МРТ в день обращения. Консультация вр...   \n",
       "1  24 часа. МРТ в день обращения. Консультация вр...   \n",
       "2  24 часа. МРТ в день обращения. Консультация вр...   \n",
       "3  24 часа. МРТ в день обращения. Консультация вр...   \n",
       "4  24 часа. МРТ в день обращения. Консультация вр...   \n",
       "\n",
       "                                                link  word_count  \n",
       "0  https://awesome-site.ru/?utm_source=yandex&utm...           2  \n",
       "1  https://awesome-site.ru/?utm_source=yandex&utm...           2  \n",
       "2  https://awesome-site.ru/?utm_source=yandex&utm...           6  \n",
       "3  https://awesome-site.ru/?utm_source=yandex&utm...           2  \n",
       "4  https://awesome-site.ru/?utm_source=yandex&utm...           2  "
      ]
     },
     "execution_count": 19,
     "metadata": {},
     "output_type": "execute_result"
    }
   ],
   "source": [
    "stats['word_count'] = stats['phrase'].apply(word_count)\n",
    "stats.head()"
   ]
  },
  {
   "cell_type": "code",
   "execution_count": 16,
   "metadata": {},
   "outputs": [
    {
     "data": {
      "text/html": [
       "<div>\n",
       "<style scoped>\n",
       "    .dataframe tbody tr th:only-of-type {\n",
       "        vertical-align: middle;\n",
       "    }\n",
       "\n",
       "    .dataframe tbody tr th {\n",
       "        vertical-align: top;\n",
       "    }\n",
       "\n",
       "    .dataframe thead th {\n",
       "        text-align: right;\n",
       "    }\n",
       "</style>\n",
       "<table border=\"1\" class=\"dataframe\">\n",
       "  <thead>\n",
       "    <tr style=\"text-align: right;\">\n",
       "      <th></th>\n",
       "      <th>group</th>\n",
       "      <th>phrase</th>\n",
       "      <th>effect</th>\n",
       "      <th>ad_id</th>\n",
       "      <th>title</th>\n",
       "      <th>text</th>\n",
       "      <th>link</th>\n",
       "      <th>word_count</th>\n",
       "    </tr>\n",
       "  </thead>\n",
       "  <tbody>\n",
       "    <tr>\n",
       "      <td>0</td>\n",
       "      <td>мрт менделеевская</td>\n",
       "      <td>\"!мрт !менделеевская\"</td>\n",
       "      <td>4.5</td>\n",
       "      <td>2101704995</td>\n",
       "      <td>МРТ на Менделеевской от 2000₽</td>\n",
       "      <td>24 часа. МРТ в день обращения. Консультация вр...</td>\n",
       "      <td>https://awesome-site.ru/?utm_source=yandex&amp;utm...</td>\n",
       "      <td>2</td>\n",
       "    </tr>\n",
       "    <tr>\n",
       "      <td>1</td>\n",
       "      <td>мрт цао</td>\n",
       "      <td>\"мрт менделеевская\"</td>\n",
       "      <td>4.5</td>\n",
       "      <td>2101704995</td>\n",
       "      <td>МРТ на Менделеевской от 2000₽</td>\n",
       "      <td>24 часа. МРТ в день обращения. Консультация вр...</td>\n",
       "      <td>https://awesome-site.ru/?utm_source=yandex&amp;utm...</td>\n",
       "      <td>2</td>\n",
       "    </tr>\n",
       "    <tr>\n",
       "      <td>2</td>\n",
       "      <td>мрт цао</td>\n",
       "      <td>мрт менделеевская -головы -позвоночника -сдела...</td>\n",
       "      <td>7.4</td>\n",
       "      <td>2101704995</td>\n",
       "      <td>МРТ на Менделеевской от 2000₽</td>\n",
       "      <td>24 часа. МРТ в день обращения. Консультация вр...</td>\n",
       "      <td>https://awesome-site.ru/?utm_source=yandex&amp;utm...</td>\n",
       "      <td>6</td>\n",
       "    </tr>\n",
       "    <tr>\n",
       "      <td>3</td>\n",
       "      <td>мрт цао</td>\n",
       "      <td>\"!мрт !цао\"</td>\n",
       "      <td>5.0</td>\n",
       "      <td>2101704999</td>\n",
       "      <td>МРТ в ЦАО от 2000₽. Звоните!</td>\n",
       "      <td>24 часа. МРТ в день обращения. Консультация вр...</td>\n",
       "      <td>https://awesome-site.ru/?utm_source=yandex&amp;utm...</td>\n",
       "      <td>2</td>\n",
       "    </tr>\n",
       "    <tr>\n",
       "      <td>4</td>\n",
       "      <td>мрт сао</td>\n",
       "      <td>\"мрт цао\"</td>\n",
       "      <td>5.0</td>\n",
       "      <td>2101704999</td>\n",
       "      <td>МРТ в ЦАО от 2000₽. Звоните!</td>\n",
       "      <td>24 часа. МРТ в день обращения. Консультация вр...</td>\n",
       "      <td>https://awesome-site.ru/?utm_source=yandex&amp;utm...</td>\n",
       "      <td>2</td>\n",
       "    </tr>\n",
       "  </tbody>\n",
       "</table>\n",
       "</div>"
      ],
      "text/plain": [
       "               group                                             phrase  \\\n",
       "0  мрт менделеевская                              \"!мрт !менделеевская\"   \n",
       "1            мрт цао                                \"мрт менделеевская\"   \n",
       "2            мрт цао  мрт менделеевская -головы -позвоночника -сдела...   \n",
       "3            мрт цао                                        \"!мрт !цао\"   \n",
       "4            мрт сао                                          \"мрт цао\"   \n",
       "\n",
       "   effect       ad_id                          title  \\\n",
       "0     4.5  2101704995  МРТ на Менделеевской от 2000₽   \n",
       "1     4.5  2101704995  МРТ на Менделеевской от 2000₽   \n",
       "2     7.4  2101704995  МРТ на Менделеевской от 2000₽   \n",
       "3     5.0  2101704999   МРТ в ЦАО от 2000₽. Звоните!   \n",
       "4     5.0  2101704999   МРТ в ЦАО от 2000₽. Звоните!   \n",
       "\n",
       "                                                text  \\\n",
       "0  24 часа. МРТ в день обращения. Консультация вр...   \n",
       "1  24 часа. МРТ в день обращения. Консультация вр...   \n",
       "2  24 часа. МРТ в день обращения. Консультация вр...   \n",
       "3  24 часа. МРТ в день обращения. Консультация вр...   \n",
       "4  24 часа. МРТ в день обращения. Консультация вр...   \n",
       "\n",
       "                                                link  word_count  \n",
       "0  https://awesome-site.ru/?utm_source=yandex&utm...           2  \n",
       "1  https://awesome-site.ru/?utm_source=yandex&utm...           2  \n",
       "2  https://awesome-site.ru/?utm_source=yandex&utm...           6  \n",
       "3  https://awesome-site.ru/?utm_source=yandex&utm...           2  \n",
       "4  https://awesome-site.ru/?utm_source=yandex&utm...           2  "
      ]
     },
     "execution_count": 16,
     "metadata": {},
     "output_type": "execute_result"
    }
   ],
   "source": [
    "stats['word_count'] = stats['phrase'].apply(lambda word: len(word.split(' ')))\n",
    "stats.head()"
   ]
  },
  {
   "cell_type": "code",
   "execution_count": 26,
   "metadata": {},
   "outputs": [],
   "source": [
    "def word_count(row):\n",
    "    return len(row['phrase'].split(' '))"
   ]
  },
  {
   "cell_type": "code",
   "execution_count": 27,
   "metadata": {},
   "outputs": [
    {
     "data": {
      "text/html": [
       "<div>\n",
       "<style scoped>\n",
       "    .dataframe tbody tr th:only-of-type {\n",
       "        vertical-align: middle;\n",
       "    }\n",
       "\n",
       "    .dataframe tbody tr th {\n",
       "        vertical-align: top;\n",
       "    }\n",
       "\n",
       "    .dataframe thead th {\n",
       "        text-align: right;\n",
       "    }\n",
       "</style>\n",
       "<table border=\"1\" class=\"dataframe\">\n",
       "  <thead>\n",
       "    <tr style=\"text-align: right;\">\n",
       "      <th></th>\n",
       "      <th>group</th>\n",
       "      <th>phrase</th>\n",
       "      <th>effect</th>\n",
       "      <th>ad_id</th>\n",
       "      <th>title</th>\n",
       "      <th>text</th>\n",
       "      <th>link</th>\n",
       "      <th>word_count</th>\n",
       "    </tr>\n",
       "  </thead>\n",
       "  <tbody>\n",
       "    <tr>\n",
       "      <td>0</td>\n",
       "      <td>мрт менделеевская</td>\n",
       "      <td>\"!мрт !менделеевская\"</td>\n",
       "      <td>4.5</td>\n",
       "      <td>2101704995</td>\n",
       "      <td>МРТ на Менделеевской от 2000₽</td>\n",
       "      <td>24 часа. МРТ в день обращения. Консультация вр...</td>\n",
       "      <td>https://awesome-site.ru/?utm_source=yandex&amp;utm...</td>\n",
       "      <td>2</td>\n",
       "    </tr>\n",
       "    <tr>\n",
       "      <td>1</td>\n",
       "      <td>мрт цао</td>\n",
       "      <td>\"мрт менделеевская\"</td>\n",
       "      <td>4.5</td>\n",
       "      <td>2101704995</td>\n",
       "      <td>МРТ на Менделеевской от 2000₽</td>\n",
       "      <td>24 часа. МРТ в день обращения. Консультация вр...</td>\n",
       "      <td>https://awesome-site.ru/?utm_source=yandex&amp;utm...</td>\n",
       "      <td>2</td>\n",
       "    </tr>\n",
       "    <tr>\n",
       "      <td>2</td>\n",
       "      <td>мрт цао</td>\n",
       "      <td>мрт менделеевская -головы -позвоночника -сдела...</td>\n",
       "      <td>7.4</td>\n",
       "      <td>2101704995</td>\n",
       "      <td>МРТ на Менделеевской от 2000₽</td>\n",
       "      <td>24 часа. МРТ в день обращения. Консультация вр...</td>\n",
       "      <td>https://awesome-site.ru/?utm_source=yandex&amp;utm...</td>\n",
       "      <td>6</td>\n",
       "    </tr>\n",
       "    <tr>\n",
       "      <td>3</td>\n",
       "      <td>мрт цао</td>\n",
       "      <td>\"!мрт !цао\"</td>\n",
       "      <td>5.0</td>\n",
       "      <td>2101704999</td>\n",
       "      <td>МРТ в ЦАО от 2000₽. Звоните!</td>\n",
       "      <td>24 часа. МРТ в день обращения. Консультация вр...</td>\n",
       "      <td>https://awesome-site.ru/?utm_source=yandex&amp;utm...</td>\n",
       "      <td>2</td>\n",
       "    </tr>\n",
       "    <tr>\n",
       "      <td>4</td>\n",
       "      <td>мрт сао</td>\n",
       "      <td>\"мрт цао\"</td>\n",
       "      <td>5.0</td>\n",
       "      <td>2101704999</td>\n",
       "      <td>МРТ в ЦАО от 2000₽. Звоните!</td>\n",
       "      <td>24 часа. МРТ в день обращения. Консультация вр...</td>\n",
       "      <td>https://awesome-site.ru/?utm_source=yandex&amp;utm...</td>\n",
       "      <td>2</td>\n",
       "    </tr>\n",
       "  </tbody>\n",
       "</table>\n",
       "</div>"
      ],
      "text/plain": [
       "               group                                             phrase  \\\n",
       "0  мрт менделеевская                              \"!мрт !менделеевская\"   \n",
       "1            мрт цао                                \"мрт менделеевская\"   \n",
       "2            мрт цао  мрт менделеевская -головы -позвоночника -сдела...   \n",
       "3            мрт цао                                        \"!мрт !цао\"   \n",
       "4            мрт сао                                          \"мрт цао\"   \n",
       "\n",
       "   effect       ad_id                          title  \\\n",
       "0     4.5  2101704995  МРТ на Менделеевской от 2000₽   \n",
       "1     4.5  2101704995  МРТ на Менделеевской от 2000₽   \n",
       "2     7.4  2101704995  МРТ на Менделеевской от 2000₽   \n",
       "3     5.0  2101704999   МРТ в ЦАО от 2000₽. Звоните!   \n",
       "4     5.0  2101704999   МРТ в ЦАО от 2000₽. Звоните!   \n",
       "\n",
       "                                                text  \\\n",
       "0  24 часа. МРТ в день обращения. Консультация вр...   \n",
       "1  24 часа. МРТ в день обращения. Консультация вр...   \n",
       "2  24 часа. МРТ в день обращения. Консультация вр...   \n",
       "3  24 часа. МРТ в день обращения. Консультация вр...   \n",
       "4  24 часа. МРТ в день обращения. Консультация вр...   \n",
       "\n",
       "                                                link  word_count  \n",
       "0  https://awesome-site.ru/?utm_source=yandex&utm...           2  \n",
       "1  https://awesome-site.ru/?utm_source=yandex&utm...           2  \n",
       "2  https://awesome-site.ru/?utm_source=yandex&utm...           6  \n",
       "3  https://awesome-site.ru/?utm_source=yandex&utm...           2  \n",
       "4  https://awesome-site.ru/?utm_source=yandex&utm...           2  "
      ]
     },
     "execution_count": 27,
     "metadata": {},
     "output_type": "execute_result"
    }
   ],
   "source": [
    "stats['word_count'] = stats.apply(word_count, axis=1)\n",
    "stats.head()"
   ]
  },
  {
   "cell_type": "code",
   "execution_count": 28,
   "metadata": {},
   "outputs": [
    {
     "data": {
      "text/html": [
       "<div>\n",
       "<style scoped>\n",
       "    .dataframe tbody tr th:only-of-type {\n",
       "        vertical-align: middle;\n",
       "    }\n",
       "\n",
       "    .dataframe tbody tr th {\n",
       "        vertical-align: top;\n",
       "    }\n",
       "\n",
       "    .dataframe thead th {\n",
       "        text-align: right;\n",
       "    }\n",
       "</style>\n",
       "<table border=\"1\" class=\"dataframe\">\n",
       "  <thead>\n",
       "    <tr style=\"text-align: right;\">\n",
       "      <th></th>\n",
       "      <th>group</th>\n",
       "      <th>phrase</th>\n",
       "      <th>effect</th>\n",
       "      <th>ad_id</th>\n",
       "      <th>title</th>\n",
       "      <th>text</th>\n",
       "      <th>link</th>\n",
       "      <th>word_count</th>\n",
       "    </tr>\n",
       "  </thead>\n",
       "  <tbody>\n",
       "    <tr>\n",
       "      <td>0</td>\n",
       "      <td>мрт менделеевская</td>\n",
       "      <td>\"!мрт !менделеевская\"</td>\n",
       "      <td>4.5</td>\n",
       "      <td>2101704995</td>\n",
       "      <td>МРТ на Менделеевской от 2000₽</td>\n",
       "      <td>24 часа. МРТ в день обращения. Консультация вр...</td>\n",
       "      <td>https://awesome-site.ru/?utm_source=yandex&amp;utm...</td>\n",
       "      <td>2</td>\n",
       "    </tr>\n",
       "    <tr>\n",
       "      <td>1</td>\n",
       "      <td>мрт цао</td>\n",
       "      <td>\"мрт менделеевская\"</td>\n",
       "      <td>4.5</td>\n",
       "      <td>2101704995</td>\n",
       "      <td>МРТ на Менделеевской от 2000₽</td>\n",
       "      <td>24 часа. МРТ в день обращения. Консультация вр...</td>\n",
       "      <td>https://awesome-site.ru/?utm_source=yandex&amp;utm...</td>\n",
       "      <td>2</td>\n",
       "    </tr>\n",
       "    <tr>\n",
       "      <td>2</td>\n",
       "      <td>мрт цао</td>\n",
       "      <td>мрт менделеевская -головы -позвоночника -сдела...</td>\n",
       "      <td>7.4</td>\n",
       "      <td>2101704995</td>\n",
       "      <td>МРТ на Менделеевской от 2000₽</td>\n",
       "      <td>24 часа. МРТ в день обращения. Консультация вр...</td>\n",
       "      <td>https://awesome-site.ru/?utm_source=yandex&amp;utm...</td>\n",
       "      <td>6</td>\n",
       "    </tr>\n",
       "    <tr>\n",
       "      <td>3</td>\n",
       "      <td>мрт цао</td>\n",
       "      <td>\"!мрт !цао\"</td>\n",
       "      <td>5.0</td>\n",
       "      <td>2101704999</td>\n",
       "      <td>МРТ в ЦАО от 2000₽. Звоните!</td>\n",
       "      <td>24 часа. МРТ в день обращения. Консультация вр...</td>\n",
       "      <td>https://awesome-site.ru/?utm_source=yandex&amp;utm...</td>\n",
       "      <td>2</td>\n",
       "    </tr>\n",
       "    <tr>\n",
       "      <td>4</td>\n",
       "      <td>мрт сао</td>\n",
       "      <td>\"мрт цао\"</td>\n",
       "      <td>5.0</td>\n",
       "      <td>2101704999</td>\n",
       "      <td>МРТ в ЦАО от 2000₽. Звоните!</td>\n",
       "      <td>24 часа. МРТ в день обращения. Консультация вр...</td>\n",
       "      <td>https://awesome-site.ru/?utm_source=yandex&amp;utm...</td>\n",
       "      <td>2</td>\n",
       "    </tr>\n",
       "  </tbody>\n",
       "</table>\n",
       "</div>"
      ],
      "text/plain": [
       "               group                                             phrase  \\\n",
       "0  мрт менделеевская                              \"!мрт !менделеевская\"   \n",
       "1            мрт цао                                \"мрт менделеевская\"   \n",
       "2            мрт цао  мрт менделеевская -головы -позвоночника -сдела...   \n",
       "3            мрт цао                                        \"!мрт !цао\"   \n",
       "4            мрт сао                                          \"мрт цао\"   \n",
       "\n",
       "   effect       ad_id                          title  \\\n",
       "0     4.5  2101704995  МРТ на Менделеевской от 2000₽   \n",
       "1     4.5  2101704995  МРТ на Менделеевской от 2000₽   \n",
       "2     7.4  2101704995  МРТ на Менделеевской от 2000₽   \n",
       "3     5.0  2101704999   МРТ в ЦАО от 2000₽. Звоните!   \n",
       "4     5.0  2101704999   МРТ в ЦАО от 2000₽. Звоните!   \n",
       "\n",
       "                                                text  \\\n",
       "0  24 часа. МРТ в день обращения. Консультация вр...   \n",
       "1  24 часа. МРТ в день обращения. Консультация вр...   \n",
       "2  24 часа. МРТ в день обращения. Консультация вр...   \n",
       "3  24 часа. МРТ в день обращения. Консультация вр...   \n",
       "4  24 часа. МРТ в день обращения. Консультация вр...   \n",
       "\n",
       "                                                link  word_count  \n",
       "0  https://awesome-site.ru/?utm_source=yandex&utm...           2  \n",
       "1  https://awesome-site.ru/?utm_source=yandex&utm...           2  \n",
       "2  https://awesome-site.ru/?utm_source=yandex&utm...           6  \n",
       "3  https://awesome-site.ru/?utm_source=yandex&utm...           2  \n",
       "4  https://awesome-site.ru/?utm_source=yandex&utm...           2  "
      ]
     },
     "execution_count": 28,
     "metadata": {},
     "output_type": "execute_result"
    }
   ],
   "source": [
    "# вариант с передачей всей строчки функции\n",
    "# тут надо обязательно указать параметр axis = 1\n",
    "\n",
    "stats['word_count'] = stats.apply(lambda x: len(x['phrase'].split(' ')), axis=1)\n",
    "stats.head()"
   ]
  },
  {
   "cell_type": "markdown",
   "metadata": {},
   "source": [
    "### Упражнение\n",
    "Напишите отдельную функцию word_count, которая считает количество слов в столбце phrase. Функцию можно применять как к столбцу phrase, так и к строке целиком."
   ]
  },
  {
   "cell_type": "code",
   "execution_count": null,
   "metadata": {},
   "outputs": [],
   "source": []
  },
  {
   "cell_type": "code",
   "execution_count": null,
   "metadata": {},
   "outputs": [],
   "source": []
  },
  {
   "cell_type": "code",
   "execution_count": null,
   "metadata": {},
   "outputs": [],
   "source": []
  },
  {
   "cell_type": "markdown",
   "metadata": {},
   "source": [
    "### Произвольные функции\n",
    "В URL кампаний есть названия. С этим надо что-то делать"
   ]
  },
  {
   "cell_type": "code",
   "execution_count": 29,
   "metadata": {},
   "outputs": [
    {
     "data": {
      "text/plain": [
       "3     1129\n",
       "4      529\n",
       "2      189\n",
       "5      137\n",
       "6       84\n",
       "7       38\n",
       "8       30\n",
       "9       12\n",
       "10       6\n",
       "12       2\n",
       "21       1\n",
       "17       1\n",
       "11       1\n",
       "Name: word_count, dtype: int64"
      ]
     },
     "execution_count": 29,
     "metadata": {},
     "output_type": "execute_result"
    }
   ],
   "source": [
    "# обращение к индексу и значениям Series\n",
    "res = stats.word_count.value_counts()\n",
    "res"
   ]
  },
  {
   "cell_type": "code",
   "execution_count": 35,
   "metadata": {},
   "outputs": [
    {
     "data": {
      "text/plain": [
       "3"
      ]
     },
     "execution_count": 35,
     "metadata": {},
     "output_type": "execute_result"
    }
   ],
   "source": [
    "res.index[0]"
   ]
  },
  {
   "cell_type": "code",
   "execution_count": 31,
   "metadata": {},
   "outputs": [
    {
     "data": {
      "text/plain": [
       "1129"
      ]
     },
     "execution_count": 31,
     "metadata": {},
     "output_type": "execute_result"
    }
   ],
   "source": [
    "res.values[0]"
   ]
  },
  {
   "cell_type": "code",
   "execution_count": 32,
   "metadata": {},
   "outputs": [
    {
     "data": {
      "text/plain": [
       "'https://awesome-site.ru/?utm_source=yandex&utm_medium=cpc&utm_campaign=a825749b87&utm_content=dev_{device_type}'"
      ]
     },
     "execution_count": 32,
     "metadata": {},
     "output_type": "execute_result"
    }
   ],
   "source": [
    "# пример ссылки\n",
    "url = stats.loc[0, 'link']\n",
    "url"
   ]
  },
  {
   "cell_type": "code",
   "execution_count": 33,
   "metadata": {},
   "outputs": [],
   "source": [
    "from urllib import parse"
   ]
  },
  {
   "cell_type": "code",
   "execution_count": 36,
   "metadata": {},
   "outputs": [
    {
     "data": {
      "text/plain": [
       "SplitResult(scheme='https', netloc='ya.ru', path='/news/sport', query='search=footbal', fragment='abc')"
      ]
     },
     "execution_count": 36,
     "metadata": {},
     "output_type": "execute_result"
    }
   ],
   "source": [
    "parse.urlsplit('https://ya.ru/news/sport?search=footbal#abc')"
   ]
  },
  {
   "cell_type": "code",
   "execution_count": 37,
   "metadata": {},
   "outputs": [
    {
     "data": {
      "text/plain": [
       "SplitResult(scheme='https', netloc='awesome-site.ru', path='/', query='utm_source=yandex&utm_medium=cpc&utm_campaign=a825749b87&utm_content=dev_{device_type}', fragment='')"
      ]
     },
     "execution_count": 37,
     "metadata": {},
     "output_type": "execute_result"
    }
   ],
   "source": [
    "parsed = parse.urlsplit(url)\n",
    "parsed"
   ]
  },
  {
   "cell_type": "code",
   "execution_count": 38,
   "metadata": {},
   "outputs": [
    {
     "data": {
      "text/plain": [
       "'a825749b87'"
      ]
     },
     "execution_count": 38,
     "metadata": {},
     "output_type": "execute_result"
    }
   ],
   "source": [
    "# можно конечно вручную\n",
    "parsed.query.split('&')[2].split('=')[1]"
   ]
  },
  {
   "cell_type": "code",
   "execution_count": 39,
   "metadata": {},
   "outputs": [
    {
     "data": {
      "text/plain": [
       "'awesome-site.ru'"
      ]
     },
     "execution_count": 39,
     "metadata": {},
     "output_type": "execute_result"
    }
   ],
   "source": [
    "# как доставать значения\n",
    "\n",
    "parsed.netloc"
   ]
  },
  {
   "cell_type": "code",
   "execution_count": 40,
   "metadata": {},
   "outputs": [
    {
     "data": {
      "text/plain": [
       "{'utm_source': ['yandex'],\n",
       " 'utm_medium': ['cpc'],\n",
       " 'utm_campaign': ['a825749b87'],\n",
       " 'utm_content': ['dev_{device_type}']}"
      ]
     },
     "execution_count": 40,
     "metadata": {},
     "output_type": "execute_result"
    }
   ],
   "source": [
    "#парсид с параметрами\n",
    "params = parse.parse_qs(parsed.query)\n",
    "params"
   ]
  },
  {
   "cell_type": "code",
   "execution_count": 43,
   "metadata": {},
   "outputs": [
    {
     "data": {
      "text/plain": [
       "'a825749b87'"
      ]
     },
     "execution_count": 43,
     "metadata": {},
     "output_type": "execute_result"
    }
   ],
   "source": [
    "# вот и кампании\n",
    "\n",
    "params['utm_campaign'][0]"
   ]
  },
  {
   "cell_type": "code",
   "execution_count": 44,
   "metadata": {},
   "outputs": [
    {
     "data": {
      "text/plain": [
       "{'a': ['1', '2', '3']}"
      ]
     },
     "execution_count": 44,
     "metadata": {},
     "output_type": "execute_result"
    }
   ],
   "source": [
    "# зачем тут везде списки?\n",
    "\n",
    "url_with_doubles = 'https://awesome-site.ru/?a=1&a=2&a=3'\n",
    "\n",
    "parsed = parse.urlsplit(url_with_doubles)\n",
    "parse.parse_qs(parsed.query)"
   ]
  },
  {
   "cell_type": "code",
   "execution_count": 45,
   "metadata": {},
   "outputs": [],
   "source": [
    "# оборачиваем все в функцию\n",
    "# в качестве аргумента будет строка датафрейма\n",
    "\n",
    "def campaign_name(row):\n",
    "    \"\"\"Получение названия кампании из ссылки внутри строки row\"\"\"\n",
    "\n",
    "    parsed = parse.urlsplit(row['link'])\n",
    "    params_dict = parse.parse_qs(parsed.query)\n",
    "\n",
    "    return params_dict['utm_campaign'][0]"
   ]
  },
  {
   "cell_type": "code",
   "execution_count": 46,
   "metadata": {},
   "outputs": [
    {
     "data": {
      "text/html": [
       "<div>\n",
       "<style scoped>\n",
       "    .dataframe tbody tr th:only-of-type {\n",
       "        vertical-align: middle;\n",
       "    }\n",
       "\n",
       "    .dataframe tbody tr th {\n",
       "        vertical-align: top;\n",
       "    }\n",
       "\n",
       "    .dataframe thead th {\n",
       "        text-align: right;\n",
       "    }\n",
       "</style>\n",
       "<table border=\"1\" class=\"dataframe\">\n",
       "  <thead>\n",
       "    <tr style=\"text-align: right;\">\n",
       "      <th></th>\n",
       "      <th>group</th>\n",
       "      <th>phrase</th>\n",
       "      <th>effect</th>\n",
       "      <th>ad_id</th>\n",
       "      <th>title</th>\n",
       "      <th>text</th>\n",
       "      <th>link</th>\n",
       "      <th>word_count</th>\n",
       "    </tr>\n",
       "  </thead>\n",
       "  <tbody>\n",
       "    <tr>\n",
       "      <td>0</td>\n",
       "      <td>мрт менделеевская</td>\n",
       "      <td>\"!мрт !менделеевская\"</td>\n",
       "      <td>4.5</td>\n",
       "      <td>2101704995</td>\n",
       "      <td>МРТ на Менделеевской от 2000₽</td>\n",
       "      <td>24 часа. МРТ в день обращения. Консультация вр...</td>\n",
       "      <td>https://awesome-site.ru/?utm_source=yandex&amp;utm...</td>\n",
       "      <td>2</td>\n",
       "    </tr>\n",
       "    <tr>\n",
       "      <td>1</td>\n",
       "      <td>мрт цао</td>\n",
       "      <td>\"мрт менделеевская\"</td>\n",
       "      <td>4.5</td>\n",
       "      <td>2101704995</td>\n",
       "      <td>МРТ на Менделеевской от 2000₽</td>\n",
       "      <td>24 часа. МРТ в день обращения. Консультация вр...</td>\n",
       "      <td>https://awesome-site.ru/?utm_source=yandex&amp;utm...</td>\n",
       "      <td>2</td>\n",
       "    </tr>\n",
       "    <tr>\n",
       "      <td>2</td>\n",
       "      <td>мрт цао</td>\n",
       "      <td>мрт менделеевская -головы -позвоночника -сдела...</td>\n",
       "      <td>7.4</td>\n",
       "      <td>2101704995</td>\n",
       "      <td>МРТ на Менделеевской от 2000₽</td>\n",
       "      <td>24 часа. МРТ в день обращения. Консультация вр...</td>\n",
       "      <td>https://awesome-site.ru/?utm_source=yandex&amp;utm...</td>\n",
       "      <td>6</td>\n",
       "    </tr>\n",
       "    <tr>\n",
       "      <td>3</td>\n",
       "      <td>мрт цао</td>\n",
       "      <td>\"!мрт !цао\"</td>\n",
       "      <td>5.0</td>\n",
       "      <td>2101704999</td>\n",
       "      <td>МРТ в ЦАО от 2000₽. Звоните!</td>\n",
       "      <td>24 часа. МРТ в день обращения. Консультация вр...</td>\n",
       "      <td>https://awesome-site.ru/?utm_source=yandex&amp;utm...</td>\n",
       "      <td>2</td>\n",
       "    </tr>\n",
       "    <tr>\n",
       "      <td>4</td>\n",
       "      <td>мрт сао</td>\n",
       "      <td>\"мрт цао\"</td>\n",
       "      <td>5.0</td>\n",
       "      <td>2101704999</td>\n",
       "      <td>МРТ в ЦАО от 2000₽. Звоните!</td>\n",
       "      <td>24 часа. МРТ в день обращения. Консультация вр...</td>\n",
       "      <td>https://awesome-site.ru/?utm_source=yandex&amp;utm...</td>\n",
       "      <td>2</td>\n",
       "    </tr>\n",
       "  </tbody>\n",
       "</table>\n",
       "</div>"
      ],
      "text/plain": [
       "               group                                             phrase  \\\n",
       "0  мрт менделеевская                              \"!мрт !менделеевская\"   \n",
       "1            мрт цао                                \"мрт менделеевская\"   \n",
       "2            мрт цао  мрт менделеевская -головы -позвоночника -сдела...   \n",
       "3            мрт цао                                        \"!мрт !цао\"   \n",
       "4            мрт сао                                          \"мрт цао\"   \n",
       "\n",
       "   effect       ad_id                          title  \\\n",
       "0     4.5  2101704995  МРТ на Менделеевской от 2000₽   \n",
       "1     4.5  2101704995  МРТ на Менделеевской от 2000₽   \n",
       "2     7.4  2101704995  МРТ на Менделеевской от 2000₽   \n",
       "3     5.0  2101704999   МРТ в ЦАО от 2000₽. Звоните!   \n",
       "4     5.0  2101704999   МРТ в ЦАО от 2000₽. Звоните!   \n",
       "\n",
       "                                                text  \\\n",
       "0  24 часа. МРТ в день обращения. Консультация вр...   \n",
       "1  24 часа. МРТ в день обращения. Консультация вр...   \n",
       "2  24 часа. МРТ в день обращения. Консультация вр...   \n",
       "3  24 часа. МРТ в день обращения. Консультация вр...   \n",
       "4  24 часа. МРТ в день обращения. Консультация вр...   \n",
       "\n",
       "                                                link  word_count  \n",
       "0  https://awesome-site.ru/?utm_source=yandex&utm...           2  \n",
       "1  https://awesome-site.ru/?utm_source=yandex&utm...           2  \n",
       "2  https://awesome-site.ru/?utm_source=yandex&utm...           6  \n",
       "3  https://awesome-site.ru/?utm_source=yandex&utm...           2  \n",
       "4  https://awesome-site.ru/?utm_source=yandex&utm...           2  "
      ]
     },
     "execution_count": 46,
     "metadata": {},
     "output_type": "execute_result"
    }
   ],
   "source": [
    "# проверяем датафрейм\n",
    "stats.head()"
   ]
  },
  {
   "cell_type": "code",
   "execution_count": 47,
   "metadata": {
    "scrolled": true
   },
   "outputs": [
    {
     "data": {
      "text/html": [
       "<div>\n",
       "<style scoped>\n",
       "    .dataframe tbody tr th:only-of-type {\n",
       "        vertical-align: middle;\n",
       "    }\n",
       "\n",
       "    .dataframe tbody tr th {\n",
       "        vertical-align: top;\n",
       "    }\n",
       "\n",
       "    .dataframe thead th {\n",
       "        text-align: right;\n",
       "    }\n",
       "</style>\n",
       "<table border=\"1\" class=\"dataframe\">\n",
       "  <thead>\n",
       "    <tr style=\"text-align: right;\">\n",
       "      <th></th>\n",
       "      <th>group</th>\n",
       "      <th>phrase</th>\n",
       "      <th>effect</th>\n",
       "      <th>ad_id</th>\n",
       "      <th>title</th>\n",
       "      <th>text</th>\n",
       "      <th>link</th>\n",
       "      <th>word_count</th>\n",
       "      <th>campaign</th>\n",
       "    </tr>\n",
       "  </thead>\n",
       "  <tbody>\n",
       "    <tr>\n",
       "      <td>0</td>\n",
       "      <td>мрт менделеевская</td>\n",
       "      <td>\"!мрт !менделеевская\"</td>\n",
       "      <td>4.5</td>\n",
       "      <td>2101704995</td>\n",
       "      <td>МРТ на Менделеевской от 2000₽</td>\n",
       "      <td>24 часа. МРТ в день обращения. Консультация вр...</td>\n",
       "      <td>https://awesome-site.ru/?utm_source=yandex&amp;utm...</td>\n",
       "      <td>2</td>\n",
       "      <td>a825749b87</td>\n",
       "    </tr>\n",
       "    <tr>\n",
       "      <td>1</td>\n",
       "      <td>мрт цао</td>\n",
       "      <td>\"мрт менделеевская\"</td>\n",
       "      <td>4.5</td>\n",
       "      <td>2101704995</td>\n",
       "      <td>МРТ на Менделеевской от 2000₽</td>\n",
       "      <td>24 часа. МРТ в день обращения. Консультация вр...</td>\n",
       "      <td>https://awesome-site.ru/?utm_source=yandex&amp;utm...</td>\n",
       "      <td>2</td>\n",
       "      <td>a825749b87</td>\n",
       "    </tr>\n",
       "    <tr>\n",
       "      <td>2</td>\n",
       "      <td>мрт цао</td>\n",
       "      <td>мрт менделеевская -головы -позвоночника -сдела...</td>\n",
       "      <td>7.4</td>\n",
       "      <td>2101704995</td>\n",
       "      <td>МРТ на Менделеевской от 2000₽</td>\n",
       "      <td>24 часа. МРТ в день обращения. Консультация вр...</td>\n",
       "      <td>https://awesome-site.ru/?utm_source=yandex&amp;utm...</td>\n",
       "      <td>6</td>\n",
       "      <td>a825749b87</td>\n",
       "    </tr>\n",
       "    <tr>\n",
       "      <td>3</td>\n",
       "      <td>мрт цао</td>\n",
       "      <td>\"!мрт !цао\"</td>\n",
       "      <td>5.0</td>\n",
       "      <td>2101704999</td>\n",
       "      <td>МРТ в ЦАО от 2000₽. Звоните!</td>\n",
       "      <td>24 часа. МРТ в день обращения. Консультация вр...</td>\n",
       "      <td>https://awesome-site.ru/?utm_source=yandex&amp;utm...</td>\n",
       "      <td>2</td>\n",
       "      <td>9cc0c5f6ca</td>\n",
       "    </tr>\n",
       "    <tr>\n",
       "      <td>4</td>\n",
       "      <td>мрт сао</td>\n",
       "      <td>\"мрт цао\"</td>\n",
       "      <td>5.0</td>\n",
       "      <td>2101704999</td>\n",
       "      <td>МРТ в ЦАО от 2000₽. Звоните!</td>\n",
       "      <td>24 часа. МРТ в день обращения. Консультация вр...</td>\n",
       "      <td>https://awesome-site.ru/?utm_source=yandex&amp;utm...</td>\n",
       "      <td>2</td>\n",
       "      <td>9cc0c5f6ca</td>\n",
       "    </tr>\n",
       "  </tbody>\n",
       "</table>\n",
       "</div>"
      ],
      "text/plain": [
       "               group                                             phrase  \\\n",
       "0  мрт менделеевская                              \"!мрт !менделеевская\"   \n",
       "1            мрт цао                                \"мрт менделеевская\"   \n",
       "2            мрт цао  мрт менделеевская -головы -позвоночника -сдела...   \n",
       "3            мрт цао                                        \"!мрт !цао\"   \n",
       "4            мрт сао                                          \"мрт цао\"   \n",
       "\n",
       "   effect       ad_id                          title  \\\n",
       "0     4.5  2101704995  МРТ на Менделеевской от 2000₽   \n",
       "1     4.5  2101704995  МРТ на Менделеевской от 2000₽   \n",
       "2     7.4  2101704995  МРТ на Менделеевской от 2000₽   \n",
       "3     5.0  2101704999   МРТ в ЦАО от 2000₽. Звоните!   \n",
       "4     5.0  2101704999   МРТ в ЦАО от 2000₽. Звоните!   \n",
       "\n",
       "                                                text  \\\n",
       "0  24 часа. МРТ в день обращения. Консультация вр...   \n",
       "1  24 часа. МРТ в день обращения. Консультация вр...   \n",
       "2  24 часа. МРТ в день обращения. Консультация вр...   \n",
       "3  24 часа. МРТ в день обращения. Консультация вр...   \n",
       "4  24 часа. МРТ в день обращения. Консультация вр...   \n",
       "\n",
       "                                                link  word_count    campaign  \n",
       "0  https://awesome-site.ru/?utm_source=yandex&utm...           2  a825749b87  \n",
       "1  https://awesome-site.ru/?utm_source=yandex&utm...           2  a825749b87  \n",
       "2  https://awesome-site.ru/?utm_source=yandex&utm...           6  a825749b87  \n",
       "3  https://awesome-site.ru/?utm_source=yandex&utm...           2  9cc0c5f6ca  \n",
       "4  https://awesome-site.ru/?utm_source=yandex&utm...           2  9cc0c5f6ca  "
      ]
     },
     "execution_count": 47,
     "metadata": {},
     "output_type": "execute_result"
    }
   ],
   "source": [
    "stats['campaign'] = stats.apply(campaign_name, axis=1)\n",
    "stats.head()"
   ]
  },
  {
   "cell_type": "markdown",
   "metadata": {},
   "source": [
    "### Как передать в функцию несколько аргументов"
   ]
  },
  {
   "cell_type": "code",
   "execution_count": 48,
   "metadata": {},
   "outputs": [],
   "source": [
    "# как передать несколько аргументов\n",
    "\n",
    "def power_up(row, n):\n",
    "    \"\"\"Возводит значение столбца effect в степень n\"\"\"\n",
    "    return row['effect'] ** n"
   ]
  },
  {
   "cell_type": "code",
   "execution_count": 49,
   "metadata": {},
   "outputs": [
    {
     "data": {
      "text/html": [
       "<div>\n",
       "<style scoped>\n",
       "    .dataframe tbody tr th:only-of-type {\n",
       "        vertical-align: middle;\n",
       "    }\n",
       "\n",
       "    .dataframe tbody tr th {\n",
       "        vertical-align: top;\n",
       "    }\n",
       "\n",
       "    .dataframe thead th {\n",
       "        text-align: right;\n",
       "    }\n",
       "</style>\n",
       "<table border=\"1\" class=\"dataframe\">\n",
       "  <thead>\n",
       "    <tr style=\"text-align: right;\">\n",
       "      <th></th>\n",
       "      <th>group</th>\n",
       "      <th>phrase</th>\n",
       "      <th>effect</th>\n",
       "      <th>ad_id</th>\n",
       "      <th>title</th>\n",
       "      <th>text</th>\n",
       "      <th>link</th>\n",
       "      <th>word_count</th>\n",
       "      <th>campaign</th>\n",
       "      <th>power_up</th>\n",
       "    </tr>\n",
       "  </thead>\n",
       "  <tbody>\n",
       "    <tr>\n",
       "      <td>0</td>\n",
       "      <td>мрт менделеевская</td>\n",
       "      <td>\"!мрт !менделеевская\"</td>\n",
       "      <td>4.5</td>\n",
       "      <td>2101704995</td>\n",
       "      <td>МРТ на Менделеевской от 2000₽</td>\n",
       "      <td>24 часа. МРТ в день обращения. Консультация вр...</td>\n",
       "      <td>https://awesome-site.ru/?utm_source=yandex&amp;utm...</td>\n",
       "      <td>2</td>\n",
       "      <td>a825749b87</td>\n",
       "      <td>91.125</td>\n",
       "    </tr>\n",
       "    <tr>\n",
       "      <td>1</td>\n",
       "      <td>мрт цао</td>\n",
       "      <td>\"мрт менделеевская\"</td>\n",
       "      <td>4.5</td>\n",
       "      <td>2101704995</td>\n",
       "      <td>МРТ на Менделеевской от 2000₽</td>\n",
       "      <td>24 часа. МРТ в день обращения. Консультация вр...</td>\n",
       "      <td>https://awesome-site.ru/?utm_source=yandex&amp;utm...</td>\n",
       "      <td>2</td>\n",
       "      <td>a825749b87</td>\n",
       "      <td>91.125</td>\n",
       "    </tr>\n",
       "    <tr>\n",
       "      <td>2</td>\n",
       "      <td>мрт цао</td>\n",
       "      <td>мрт менделеевская -головы -позвоночника -сдела...</td>\n",
       "      <td>7.4</td>\n",
       "      <td>2101704995</td>\n",
       "      <td>МРТ на Менделеевской от 2000₽</td>\n",
       "      <td>24 часа. МРТ в день обращения. Консультация вр...</td>\n",
       "      <td>https://awesome-site.ru/?utm_source=yandex&amp;utm...</td>\n",
       "      <td>6</td>\n",
       "      <td>a825749b87</td>\n",
       "      <td>405.224</td>\n",
       "    </tr>\n",
       "    <tr>\n",
       "      <td>3</td>\n",
       "      <td>мрт цао</td>\n",
       "      <td>\"!мрт !цао\"</td>\n",
       "      <td>5.0</td>\n",
       "      <td>2101704999</td>\n",
       "      <td>МРТ в ЦАО от 2000₽. Звоните!</td>\n",
       "      <td>24 часа. МРТ в день обращения. Консультация вр...</td>\n",
       "      <td>https://awesome-site.ru/?utm_source=yandex&amp;utm...</td>\n",
       "      <td>2</td>\n",
       "      <td>9cc0c5f6ca</td>\n",
       "      <td>125.000</td>\n",
       "    </tr>\n",
       "    <tr>\n",
       "      <td>4</td>\n",
       "      <td>мрт сао</td>\n",
       "      <td>\"мрт цао\"</td>\n",
       "      <td>5.0</td>\n",
       "      <td>2101704999</td>\n",
       "      <td>МРТ в ЦАО от 2000₽. Звоните!</td>\n",
       "      <td>24 часа. МРТ в день обращения. Консультация вр...</td>\n",
       "      <td>https://awesome-site.ru/?utm_source=yandex&amp;utm...</td>\n",
       "      <td>2</td>\n",
       "      <td>9cc0c5f6ca</td>\n",
       "      <td>125.000</td>\n",
       "    </tr>\n",
       "  </tbody>\n",
       "</table>\n",
       "</div>"
      ],
      "text/plain": [
       "               group                                             phrase  \\\n",
       "0  мрт менделеевская                              \"!мрт !менделеевская\"   \n",
       "1            мрт цао                                \"мрт менделеевская\"   \n",
       "2            мрт цао  мрт менделеевская -головы -позвоночника -сдела...   \n",
       "3            мрт цао                                        \"!мрт !цао\"   \n",
       "4            мрт сао                                          \"мрт цао\"   \n",
       "\n",
       "   effect       ad_id                          title  \\\n",
       "0     4.5  2101704995  МРТ на Менделеевской от 2000₽   \n",
       "1     4.5  2101704995  МРТ на Менделеевской от 2000₽   \n",
       "2     7.4  2101704995  МРТ на Менделеевской от 2000₽   \n",
       "3     5.0  2101704999   МРТ в ЦАО от 2000₽. Звоните!   \n",
       "4     5.0  2101704999   МРТ в ЦАО от 2000₽. Звоните!   \n",
       "\n",
       "                                                text  \\\n",
       "0  24 часа. МРТ в день обращения. Консультация вр...   \n",
       "1  24 часа. МРТ в день обращения. Консультация вр...   \n",
       "2  24 часа. МРТ в день обращения. Консультация вр...   \n",
       "3  24 часа. МРТ в день обращения. Консультация вр...   \n",
       "4  24 часа. МРТ в день обращения. Консультация вр...   \n",
       "\n",
       "                                                link  word_count    campaign  \\\n",
       "0  https://awesome-site.ru/?utm_source=yandex&utm...           2  a825749b87   \n",
       "1  https://awesome-site.ru/?utm_source=yandex&utm...           2  a825749b87   \n",
       "2  https://awesome-site.ru/?utm_source=yandex&utm...           6  a825749b87   \n",
       "3  https://awesome-site.ru/?utm_source=yandex&utm...           2  9cc0c5f6ca   \n",
       "4  https://awesome-site.ru/?utm_source=yandex&utm...           2  9cc0c5f6ca   \n",
       "\n",
       "   power_up  \n",
       "0    91.125  \n",
       "1    91.125  \n",
       "2   405.224  \n",
       "3   125.000  \n",
       "4   125.000  "
      ]
     },
     "execution_count": 49,
     "metadata": {},
     "output_type": "execute_result"
    }
   ],
   "source": [
    "stats['power_up'] = stats.apply(power_up, n=3, axis=1)\n",
    "stats.head()"
   ]
  },
  {
   "cell_type": "markdown",
   "metadata": {},
   "source": [
    "### Упражнение\n",
    "В наших данных есть много объявлений с услугой МРТ (в столбце group есть слово 'мрт') круглосуточно (в тексте объявления text есть '24 часа'). Отфильтруйте строки, в которых НЕ упоминается МРТ, но прием идет круглосуточно. Сколько таких строк в датасете?"
   ]
  },
  {
   "cell_type": "code",
   "execution_count": 50,
   "metadata": {},
   "outputs": [
    {
     "data": {
      "text/plain": [
       "39"
      ]
     },
     "execution_count": 50,
     "metadata": {},
     "output_type": "execute_result"
    }
   ],
   "source": [
    "without_mrt = (~stats.group.str.contains('мрт', case=False)) & stats.text.str.contains('24 часа', case=False) \n",
    "stats[without_mrt].shape[0]"
   ]
  },
  {
   "cell_type": "code",
   "execution_count": 51,
   "metadata": {},
   "outputs": [],
   "source": [
    "def mrt(row):\n",
    "    if 'мрт' not in row['group'] and '24 часа' in row['text']:\n",
    "        return True\n",
    "    else:\n",
    "        return False"
   ]
  },
  {
   "cell_type": "code",
   "execution_count": 52,
   "metadata": {},
   "outputs": [
    {
     "data": {
      "text/plain": [
       "False    2120\n",
       "True       39\n",
       "Name: mrt, dtype: int64"
      ]
     },
     "execution_count": 52,
     "metadata": {},
     "output_type": "execute_result"
    }
   ],
   "source": [
    "stats['mrt'] = stats.apply(mrt, axis=1)\n",
    "stats.mrt.value_counts()"
   ]
  },
  {
   "cell_type": "code",
   "execution_count": 56,
   "metadata": {},
   "outputs": [
    {
     "data": {
      "text/html": [
       "<div>\n",
       "<style scoped>\n",
       "    .dataframe tbody tr th:only-of-type {\n",
       "        vertical-align: middle;\n",
       "    }\n",
       "\n",
       "    .dataframe tbody tr th {\n",
       "        vertical-align: top;\n",
       "    }\n",
       "\n",
       "    .dataframe thead th {\n",
       "        text-align: right;\n",
       "    }\n",
       "</style>\n",
       "<table border=\"1\" class=\"dataframe\">\n",
       "  <thead>\n",
       "    <tr style=\"text-align: right;\">\n",
       "      <th></th>\n",
       "      <th>group</th>\n",
       "      <th>phrase</th>\n",
       "      <th>effect</th>\n",
       "      <th>ad_id</th>\n",
       "      <th>title</th>\n",
       "      <th>text</th>\n",
       "      <th>link</th>\n",
       "      <th>word_count</th>\n",
       "      <th>campaign</th>\n",
       "      <th>power_up</th>\n",
       "      <th>mrt</th>\n",
       "    </tr>\n",
       "  </thead>\n",
       "  <tbody>\n",
       "    <tr>\n",
       "      <td>0</td>\n",
       "      <td>мрт менделеевская</td>\n",
       "      <td>\"!мрт !менделеевская\"</td>\n",
       "      <td>4.5</td>\n",
       "      <td>2101704995</td>\n",
       "      <td>МРТ на Менделеевской от 2000₽</td>\n",
       "      <td>24 часа. МРТ в день обращения. Консультация вр...</td>\n",
       "      <td>https://awesome-site.ru/?utm_source=yandex&amp;utm...</td>\n",
       "      <td>2</td>\n",
       "      <td>a825749b87</td>\n",
       "      <td>91.125</td>\n",
       "      <td>False</td>\n",
       "    </tr>\n",
       "    <tr>\n",
       "      <td>1</td>\n",
       "      <td>мрт цао</td>\n",
       "      <td>\"мрт менделеевская\"</td>\n",
       "      <td>4.5</td>\n",
       "      <td>2101704995</td>\n",
       "      <td>МРТ на Менделеевской от 2000₽</td>\n",
       "      <td>24 часа. МРТ в день обращения. Консультация вр...</td>\n",
       "      <td>https://awesome-site.ru/?utm_source=yandex&amp;utm...</td>\n",
       "      <td>2</td>\n",
       "      <td>a825749b87</td>\n",
       "      <td>91.125</td>\n",
       "      <td>False</td>\n",
       "    </tr>\n",
       "    <tr>\n",
       "      <td>2</td>\n",
       "      <td>мрт цао</td>\n",
       "      <td>мрт менделеевская -головы -позвоночника -сдела...</td>\n",
       "      <td>7.4</td>\n",
       "      <td>2101704995</td>\n",
       "      <td>МРТ на Менделеевской от 2000₽</td>\n",
       "      <td>24 часа. МРТ в день обращения. Консультация вр...</td>\n",
       "      <td>https://awesome-site.ru/?utm_source=yandex&amp;utm...</td>\n",
       "      <td>6</td>\n",
       "      <td>a825749b87</td>\n",
       "      <td>405.224</td>\n",
       "      <td>False</td>\n",
       "    </tr>\n",
       "    <tr>\n",
       "      <td>3</td>\n",
       "      <td>мрт цао</td>\n",
       "      <td>\"!мрт !цао\"</td>\n",
       "      <td>5.0</td>\n",
       "      <td>2101704999</td>\n",
       "      <td>МРТ в ЦАО от 2000₽. Звоните!</td>\n",
       "      <td>24 часа. МРТ в день обращения. Консультация вр...</td>\n",
       "      <td>https://awesome-site.ru/?utm_source=yandex&amp;utm...</td>\n",
       "      <td>2</td>\n",
       "      <td>9cc0c5f6ca</td>\n",
       "      <td>125.000</td>\n",
       "      <td>False</td>\n",
       "    </tr>\n",
       "    <tr>\n",
       "      <td>4</td>\n",
       "      <td>мрт сао</td>\n",
       "      <td>\"мрт цао\"</td>\n",
       "      <td>5.0</td>\n",
       "      <td>2101704999</td>\n",
       "      <td>МРТ в ЦАО от 2000₽. Звоните!</td>\n",
       "      <td>24 часа. МРТ в день обращения. Консультация вр...</td>\n",
       "      <td>https://awesome-site.ru/?utm_source=yandex&amp;utm...</td>\n",
       "      <td>2</td>\n",
       "      <td>9cc0c5f6ca</td>\n",
       "      <td>125.000</td>\n",
       "      <td>False</td>\n",
       "    </tr>\n",
       "  </tbody>\n",
       "</table>\n",
       "</div>"
      ],
      "text/plain": [
       "               group                                             phrase  \\\n",
       "0  мрт менделеевская                              \"!мрт !менделеевская\"   \n",
       "1            мрт цао                                \"мрт менделеевская\"   \n",
       "2            мрт цао  мрт менделеевская -головы -позвоночника -сдела...   \n",
       "3            мрт цао                                        \"!мрт !цао\"   \n",
       "4            мрт сао                                          \"мрт цао\"   \n",
       "\n",
       "   effect       ad_id                          title  \\\n",
       "0     4.5  2101704995  МРТ на Менделеевской от 2000₽   \n",
       "1     4.5  2101704995  МРТ на Менделеевской от 2000₽   \n",
       "2     7.4  2101704995  МРТ на Менделеевской от 2000₽   \n",
       "3     5.0  2101704999   МРТ в ЦАО от 2000₽. Звоните!   \n",
       "4     5.0  2101704999   МРТ в ЦАО от 2000₽. Звоните!   \n",
       "\n",
       "                                                text  \\\n",
       "0  24 часа. МРТ в день обращения. Консультация вр...   \n",
       "1  24 часа. МРТ в день обращения. Консультация вр...   \n",
       "2  24 часа. МРТ в день обращения. Консультация вр...   \n",
       "3  24 часа. МРТ в день обращения. Консультация вр...   \n",
       "4  24 часа. МРТ в день обращения. Консультация вр...   \n",
       "\n",
       "                                                link  word_count    campaign  \\\n",
       "0  https://awesome-site.ru/?utm_source=yandex&utm...           2  a825749b87   \n",
       "1  https://awesome-site.ru/?utm_source=yandex&utm...           2  a825749b87   \n",
       "2  https://awesome-site.ru/?utm_source=yandex&utm...           6  a825749b87   \n",
       "3  https://awesome-site.ru/?utm_source=yandex&utm...           2  9cc0c5f6ca   \n",
       "4  https://awesome-site.ru/?utm_source=yandex&utm...           2  9cc0c5f6ca   \n",
       "\n",
       "   power_up    mrt  \n",
       "0    91.125  False  \n",
       "1    91.125  False  \n",
       "2   405.224  False  \n",
       "3   125.000  False  \n",
       "4   125.000  False  "
      ]
     },
     "execution_count": 56,
     "metadata": {},
     "output_type": "execute_result"
    }
   ],
   "source": [
    "stats['mrt'] = stats.apply(lambda row: 'мрт' not in row.group and '24 часа' in row['text'], axis=1)\n",
    "stats.head()"
   ]
  },
  {
   "cell_type": "markdown",
   "metadata": {},
   "source": [
    "# Группировки"
   ]
  },
  {
   "cell_type": "code",
   "execution_count": 55,
   "metadata": {
    "scrolled": true
   },
   "outputs": [
    {
     "data": {
      "text/html": [
       "<div>\n",
       "<style scoped>\n",
       "    .dataframe tbody tr th:only-of-type {\n",
       "        vertical-align: middle;\n",
       "    }\n",
       "\n",
       "    .dataframe tbody tr th {\n",
       "        vertical-align: top;\n",
       "    }\n",
       "\n",
       "    .dataframe thead th {\n",
       "        text-align: right;\n",
       "    }\n",
       "</style>\n",
       "<table border=\"1\" class=\"dataframe\">\n",
       "  <thead>\n",
       "    <tr style=\"text-align: right;\">\n",
       "      <th></th>\n",
       "      <th>order_id</th>\n",
       "      <th>country</th>\n",
       "      <th>category</th>\n",
       "      <th>amount</th>\n",
       "    </tr>\n",
       "  </thead>\n",
       "  <tbody>\n",
       "    <tr>\n",
       "      <td>0</td>\n",
       "      <td>1</td>\n",
       "      <td>Россия</td>\n",
       "      <td>Электроника</td>\n",
       "      <td>100</td>\n",
       "    </tr>\n",
       "    <tr>\n",
       "      <td>1</td>\n",
       "      <td>2</td>\n",
       "      <td>Китай</td>\n",
       "      <td>Авто</td>\n",
       "      <td>80</td>\n",
       "    </tr>\n",
       "    <tr>\n",
       "      <td>2</td>\n",
       "      <td>3</td>\n",
       "      <td>Китай</td>\n",
       "      <td>Электроника</td>\n",
       "      <td>90</td>\n",
       "    </tr>\n",
       "    <tr>\n",
       "      <td>3</td>\n",
       "      <td>4</td>\n",
       "      <td>Россия</td>\n",
       "      <td>Авто</td>\n",
       "      <td>140</td>\n",
       "    </tr>\n",
       "    <tr>\n",
       "      <td>4</td>\n",
       "      <td>5</td>\n",
       "      <td>Россия</td>\n",
       "      <td>Авто</td>\n",
       "      <td>90</td>\n",
       "    </tr>\n",
       "  </tbody>\n",
       "</table>\n",
       "</div>"
      ],
      "text/plain": [
       "   order_id country     category  amount\n",
       "0         1  Россия  Электроника     100\n",
       "1         2   Китай         Авто      80\n",
       "2         3   Китай  Электроника      90\n",
       "3         4  Россия         Авто     140\n",
       "4         5  Россия         Авто      90"
      ]
     },
     "execution_count": 55,
     "metadata": {},
     "output_type": "execute_result"
    }
   ],
   "source": [
    "df = pd.DataFrame({'order_id': [1, 2, 3, 4, 5], 'country': ['Россия', 'Китай', 'Китай', 'Россия', 'Россия'], \n",
    "                   'category': ['Электроника', 'Авто', 'Электроника', 'Авто', 'Авто'], \n",
    "                   'amount': [100, 80, 90, 140, 90]})\n",
    "df"
   ]
  },
  {
   "cell_type": "markdown",
   "metadata": {},
   "source": [
    "Создадим датафрейм df_russia, в котором оставим заказы из России. И аналогично df_china (заказы из Китая)."
   ]
  },
  {
   "cell_type": "code",
   "execution_count": 59,
   "metadata": {},
   "outputs": [
    {
     "data": {
      "text/plain": [
       "array(['Россия', 'Китай'], dtype=object)"
      ]
     },
     "execution_count": 59,
     "metadata": {},
     "output_type": "execute_result"
    }
   ],
   "source": [
    "df.country.unique()"
   ]
  },
  {
   "cell_type": "raw",
   "metadata": {},
   "source": []
  },
  {
   "cell_type": "code",
   "execution_count": null,
   "metadata": {},
   "outputs": [],
   "source": []
  },
  {
   "cell_type": "markdown",
   "metadata": {},
   "source": [
    "Посчитаем для df_russia и df_china:\n",
    "- среднюю стоимость заказа\n",
    "- разницу между максимальной и минимальной стоимостью заказа"
   ]
  },
  {
   "cell_type": "code",
   "execution_count": null,
   "metadata": {},
   "outputs": [],
   "source": []
  },
  {
   "cell_type": "code",
   "execution_count": null,
   "metadata": {},
   "outputs": [],
   "source": []
  },
  {
   "cell_type": "code",
   "execution_count": null,
   "metadata": {},
   "outputs": [],
   "source": []
  },
  {
   "cell_type": "markdown",
   "metadata": {},
   "source": [
    "Объединим процесс разбиения на датафреймы"
   ]
  },
  {
   "cell_type": "code",
   "execution_count": 57,
   "metadata": {},
   "outputs": [],
   "source": [
    "def groupby_function(data):\n",
    "    return data.amount.max() - data.amount.min()"
   ]
  },
  {
   "cell_type": "code",
   "execution_count": 58,
   "metadata": {
    "scrolled": true
   },
   "outputs": [
    {
     "data": {
      "text/plain": [
       "country\n",
       "Китай     10\n",
       "Россия    50\n",
       "dtype: int64"
      ]
     },
     "execution_count": 58,
     "metadata": {},
     "output_type": "execute_result"
    }
   ],
   "source": [
    "df.groupby('country').apply(groupby_function)"
   ]
  },
  {
   "cell_type": "markdown",
   "metadata": {},
   "source": [
    "Вернемся к статистике рекламных кампаний"
   ]
  },
  {
   "cell_type": "code",
   "execution_count": null,
   "metadata": {},
   "outputs": [],
   "source": [
    "# раньше использовали value_counts\n",
    "\n",
    "stats['campaign'].value_counts().head()"
   ]
  },
  {
   "cell_type": "code",
   "execution_count": null,
   "metadata": {
    "scrolled": true
   },
   "outputs": [],
   "source": [
    "# более универсальный способ\n",
    "\n",
    "stats.groupby('campaign').count().head()"
   ]
  },
  {
   "cell_type": "code",
   "execution_count": null,
   "metadata": {},
   "outputs": [],
   "source": [
    "stats.groupby('campaign').count()[['group', 'effect']].head()"
   ]
  },
  {
   "cell_type": "markdown",
   "metadata": {},
   "source": [
    "### Как вернуть столбец из индекса - метод reset_index()"
   ]
  },
  {
   "cell_type": "code",
   "execution_count": null,
   "metadata": {
    "scrolled": true
   },
   "outputs": [],
   "source": [
    "stats.groupby('campaign').count().reset_index().head()"
   ]
  },
  {
   "cell_type": "markdown",
   "metadata": {},
   "source": [
    "### К группировке можно применять разные функции такие образом:"
   ]
  },
  {
   "cell_type": "code",
   "execution_count": null,
   "metadata": {},
   "outputs": [],
   "source": [
    "obj = stats.groupby('campaign')"
   ]
  },
  {
   "cell_type": "code",
   "execution_count": null,
   "metadata": {},
   "outputs": [],
   "source": [
    "obj.max().head()"
   ]
  },
  {
   "cell_type": "code",
   "execution_count": null,
   "metadata": {
    "scrolled": true
   },
   "outputs": [],
   "source": [
    "obj.mean().head()"
   ]
  },
  {
   "cell_type": "markdown",
   "metadata": {},
   "source": [
    "Для каждой кампании campaign найдем минимальное значение столбца effect и построим рейтинг кампаний по этим значениям, начиная с самого низкого."
   ]
  },
  {
   "cell_type": "code",
   "execution_count": null,
   "metadata": {},
   "outputs": [],
   "source": []
  },
  {
   "cell_type": "code",
   "execution_count": null,
   "metadata": {},
   "outputs": [],
   "source": []
  },
  {
   "cell_type": "code",
   "execution_count": null,
   "metadata": {},
   "outputs": [],
   "source": []
  },
  {
   "cell_type": "markdown",
   "metadata": {},
   "source": [
    "### Несколько функций в группировках"
   ]
  },
  {
   "cell_type": "code",
   "execution_count": null,
   "metadata": {},
   "outputs": [],
   "source": [
    "# задаем несколько функций сразу\n",
    "\n",
    "stats.groupby('campaign').agg(['min', 'max'])['effect'].head()"
   ]
  },
  {
   "cell_type": "code",
   "execution_count": null,
   "metadata": {},
   "outputs": [],
   "source": [
    "# разные метрики для разных столбцов\n",
    "\n",
    "results = stats.groupby('campaign').agg({'effect': ['min', 'max'], 'power_up': 'mean'})\n",
    "results.head()"
   ]
  },
  {
   "cell_type": "markdown",
   "metadata": {},
   "source": [
    "### Как обращаться к вложенным столбцам"
   ]
  },
  {
   "cell_type": "code",
   "execution_count": null,
   "metadata": {},
   "outputs": [],
   "source": [
    "results['effect']['max'].head()"
   ]
  },
  {
   "cell_type": "code",
   "execution_count": null,
   "metadata": {},
   "outputs": [],
   "source": [
    "# или даже так\n",
    "stats.groupby('campaign').agg({'effect': ['min', 'max'], 'power_up': 'mean'})['effect']['max'].head()"
   ]
  },
  {
   "cell_type": "code",
   "execution_count": null,
   "metadata": {},
   "outputs": [],
   "source": [
    "# группировка по нескольким столбцам\n",
    "\n",
    "stats.groupby(['group', 'campaign']).count().head()"
   ]
  },
  {
   "cell_type": "code",
   "execution_count": null,
   "metadata": {},
   "outputs": [],
   "source": [
    "# максимальное число объявлений в одной группе\n",
    "\n",
    "stats.groupby(['group', 'campaign']).count().sort_values('phrase', ascending=False).head()"
   ]
  }
 ],
 "metadata": {
  "kernelspec": {
   "display_name": "Python 3",
   "language": "python",
   "name": "python3"
  },
  "language_info": {
   "codemirror_mode": {
    "name": "ipython",
    "version": 3
   },
   "file_extension": ".py",
   "mimetype": "text/x-python",
   "name": "python",
   "nbconvert_exporter": "python",
   "pygments_lexer": "ipython3",
   "version": "3.7.4"
  }
 },
 "nbformat": 4,
 "nbformat_minor": 2
}
