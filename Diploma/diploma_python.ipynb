{
 "cells": [
  {
   "cell_type": "markdown",
   "metadata": {},
   "source": [
    "# Дипломная работа по курсу «Python для анализа данных»"
   ]
  },
  {
   "cell_type": "markdown",
   "metadata": {},
   "source": [
    "1. Загрузить файл hr.csv (можно найти во сложении к заданию)\n",
    "2. Рассчитать основные статистики для переменных (среднее, медиана, мода, мин/макс, сред. отклонение)\n",
    "3. Рассчитать и визуализировать корреляционную матрицу для переменных\n",
    "4. Визуализировать несколько взаимосвязей между переменными\n",
    "5. С использованием t-test статистики проверить взаимосвязи между несколькими выборками (двумя или больше)\n",
    "6. Рассчитать сколько работников работает в каждом департаменте\n",
    "7. Показать распределение сотрудников по зарплатам\n",
    "8. Показать распределение сотрудников по зарплатам совместно с департаментами\n",
    "9. Сколько сотрудников покинули компанию\n",
    "10. Проверить несколько гипотез для данных, чтобы понять почему сотрудники покидают компанию\n",
    "11. Загрузить результат (в формате .ipynb ноутбука) в репозиторий. Разместить ссылку на репозиторий в лк на сайте"
   ]
  },
  {
   "cell_type": "code",
   "execution_count": 1,
   "metadata": {},
   "outputs": [],
   "source": [
    "import pandas as pd\n",
    "import numpy as np\n",
    "import matplotlib.pyplot as plt\n",
    "import seaborn as sns\n",
    "import scipy.stats as sts\n",
    "from scipy import stats\n",
    "%matplotlib inline\n",
    "import statistics"
   ]
  },
  {
   "cell_type": "markdown",
   "metadata": {},
   "source": [
    "### 1. Загрузить файл hr.csv"
   ]
  },
  {
   "cell_type": "code",
   "execution_count": 57,
   "metadata": {},
   "outputs": [
    {
     "data": {
      "text/html": [
       "<div>\n",
       "<style scoped>\n",
       "    .dataframe tbody tr th:only-of-type {\n",
       "        vertical-align: middle;\n",
       "    }\n",
       "\n",
       "    .dataframe tbody tr th {\n",
       "        vertical-align: top;\n",
       "    }\n",
       "\n",
       "    .dataframe thead th {\n",
       "        text-align: right;\n",
       "    }\n",
       "</style>\n",
       "<table border=\"1\" class=\"dataframe\">\n",
       "  <thead>\n",
       "    <tr style=\"text-align: right;\">\n",
       "      <th></th>\n",
       "      <th>satisfaction_level</th>\n",
       "      <th>last_evaluation</th>\n",
       "      <th>number_project</th>\n",
       "      <th>average_montly_hours</th>\n",
       "      <th>time_spend_company</th>\n",
       "      <th>Work_accident</th>\n",
       "      <th>left</th>\n",
       "      <th>promotion_last_5years</th>\n",
       "      <th>sales</th>\n",
       "      <th>salary</th>\n",
       "    </tr>\n",
       "  </thead>\n",
       "  <tbody>\n",
       "    <tr>\n",
       "      <td>0</td>\n",
       "      <td>0.38</td>\n",
       "      <td>0.53</td>\n",
       "      <td>2</td>\n",
       "      <td>157</td>\n",
       "      <td>3</td>\n",
       "      <td>0</td>\n",
       "      <td>1</td>\n",
       "      <td>0</td>\n",
       "      <td>sales</td>\n",
       "      <td>low</td>\n",
       "    </tr>\n",
       "    <tr>\n",
       "      <td>1</td>\n",
       "      <td>0.80</td>\n",
       "      <td>0.86</td>\n",
       "      <td>5</td>\n",
       "      <td>262</td>\n",
       "      <td>6</td>\n",
       "      <td>0</td>\n",
       "      <td>1</td>\n",
       "      <td>0</td>\n",
       "      <td>sales</td>\n",
       "      <td>medium</td>\n",
       "    </tr>\n",
       "    <tr>\n",
       "      <td>2</td>\n",
       "      <td>0.11</td>\n",
       "      <td>0.88</td>\n",
       "      <td>7</td>\n",
       "      <td>272</td>\n",
       "      <td>4</td>\n",
       "      <td>0</td>\n",
       "      <td>1</td>\n",
       "      <td>0</td>\n",
       "      <td>sales</td>\n",
       "      <td>medium</td>\n",
       "    </tr>\n",
       "    <tr>\n",
       "      <td>3</td>\n",
       "      <td>0.72</td>\n",
       "      <td>0.87</td>\n",
       "      <td>5</td>\n",
       "      <td>223</td>\n",
       "      <td>5</td>\n",
       "      <td>0</td>\n",
       "      <td>1</td>\n",
       "      <td>0</td>\n",
       "      <td>sales</td>\n",
       "      <td>low</td>\n",
       "    </tr>\n",
       "    <tr>\n",
       "      <td>4</td>\n",
       "      <td>0.37</td>\n",
       "      <td>0.52</td>\n",
       "      <td>2</td>\n",
       "      <td>159</td>\n",
       "      <td>3</td>\n",
       "      <td>0</td>\n",
       "      <td>1</td>\n",
       "      <td>0</td>\n",
       "      <td>sales</td>\n",
       "      <td>low</td>\n",
       "    </tr>\n",
       "  </tbody>\n",
       "</table>\n",
       "</div>"
      ],
      "text/plain": [
       "   satisfaction_level  last_evaluation  number_project  average_montly_hours  \\\n",
       "0                0.38             0.53               2                   157   \n",
       "1                0.80             0.86               5                   262   \n",
       "2                0.11             0.88               7                   272   \n",
       "3                0.72             0.87               5                   223   \n",
       "4                0.37             0.52               2                   159   \n",
       "\n",
       "   time_spend_company  Work_accident  left  promotion_last_5years  sales  \\\n",
       "0                   3              0     1                      0  sales   \n",
       "1                   6              0     1                      0  sales   \n",
       "2                   4              0     1                      0  sales   \n",
       "3                   5              0     1                      0  sales   \n",
       "4                   3              0     1                      0  sales   \n",
       "\n",
       "   salary  \n",
       "0     low  \n",
       "1  medium  \n",
       "2  medium  \n",
       "3     low  \n",
       "4     low  "
      ]
     },
     "execution_count": 57,
     "metadata": {},
     "output_type": "execute_result"
    }
   ],
   "source": [
    "hr = pd.read_csv('HR.csv')\n",
    "hr.head()\n",
    "#проверка таблицы на пропуски\n",
    "#hr.info()"
   ]
  },
  {
   "cell_type": "markdown",
   "metadata": {},
   "source": [
    "### 2. Рассчитать основные статистики для переменных (среднее, медиана, мода, мин/макс, сред. отклонение)"
   ]
  },
  {
   "cell_type": "markdown",
   "metadata": {},
   "source": [
    "##### Среднее"
   ]
  },
  {
   "cell_type": "code",
   "execution_count": 54,
   "metadata": {},
   "outputs": [
    {
     "name": "stdout",
     "output_type": "stream",
     "text": [
      "Среднее для satisfaction_level:  0.6128335222348157\n",
      "Среднее для last_evaluation:  0.7161017401160077\n",
      "Среднее для number_project:  3.80305353690246\n",
      "Среднее для average_montly_hours:  201.0503366891126\n",
      "Среднее для time_spend_company:  3.498233215547703\n",
      "Среднее для Work_accident:  0.1446096406427095\n",
      "Среднее для left:  0.2380825388359224\n",
      "Среднее для promotion_last_5years:  0.021268084538969265\n"
     ]
    }
   ],
   "source": [
    "print('Среднее для satisfaction_level: ', statistics.mean(hr['satisfaction_level']))\n",
    "print('Среднее для last_evaluation: ', statistics.mean(hr['last_evaluation']))\n",
    "print('Среднее для number_project: ', statistics.mean(hr['number_project']))\n",
    "print('Среднее для average_montly_hours: ', statistics.mean(hr['average_montly_hours']))\n",
    "print('Среднее для time_spend_company: ', statistics.mean(hr['time_spend_company']))\n",
    "print('Среднее для Work_accident: ', statistics.mean(hr['Work_accident']))\n",
    "print('Среднее для left: ', statistics.mean(hr['left']))\n",
    "print('Среднее для promotion_last_5years: ', statistics.mean(hr['promotion_last_5years']))"
   ]
  },
  {
   "cell_type": "markdown",
   "metadata": {},
   "source": [
    " ##### Медиана"
   ]
  },
  {
   "cell_type": "code",
   "execution_count": 45,
   "metadata": {},
   "outputs": [
    {
     "name": "stdout",
     "output_type": "stream",
     "text": [
      "Медиана для satisfaction_level:  0.64\n",
      "Медиана для last_evaluation:  0.72\n",
      "Медиана для number_project:  4\n",
      "Медиана для average_montly_hours:  200\n",
      "Медиана для time_spend_company:  3\n",
      "Медиана для Work_accident:  0\n",
      "Медиана для left:  0\n",
      "Медиана для promotion_last_5years:  0\n"
     ]
    }
   ],
   "source": [
    "print('Медиана для satisfaction_level: ', statistics.median(hr['satisfaction_level']))\n",
    "print('Медиана для last_evaluation: ', statistics.median(hr['last_evaluation']))\n",
    "print('Медиана для number_project: ', statistics.median(hr['number_project']))\n",
    "print('Медиана для average_montly_hours: ', statistics.median(hr['average_montly_hours']))\n",
    "print('Медиана для time_spend_company: ', statistics.median(hr['time_spend_company']))\n",
    "print('Медиана для Work_accident: ', statistics.median(hr['Work_accident']))\n",
    "print('Медиана для left: ', statistics.median(hr['left']))\n",
    "print('Медиана для promotion_last_5years: ', statistics.median(hr['promotion_last_5years']))"
   ]
  },
  {
   "cell_type": "markdown",
   "metadata": {},
   "source": [
    "##### Мода"
   ]
  },
  {
   "cell_type": "code",
   "execution_count": 47,
   "metadata": {},
   "outputs": [
    {
     "name": "stdout",
     "output_type": "stream",
     "text": [
      "Мода для satisfaction_level:  0.1\n",
      "Мода для last_evaluation:  0.55\n",
      "Мода для number_project:  4\n",
      "Мода для average_montly_hours: нельзя найти моду, так как есть два равных значения\n",
      "Мода для time_spend_company:  3\n",
      "Мода для Work_accident:  0\n",
      "Мода для left:  0\n",
      "Мода для promotion_last_5years:  0\n"
     ]
    }
   ],
   "source": [
    "print('Мода для satisfaction_level: ', statistics.mode(hr['satisfaction_level']))\n",
    "print('Мода для last_evaluation: ', statistics.mode(hr['last_evaluation']))\n",
    "print('Мода для number_project: ', statistics.mode(hr['number_project']))\n",
    "print('Мода для average_montly_hours: нельзя найти моду, так как есть два равных значения')\n",
    "print('Мода для time_spend_company: ', statistics.mode(hr['time_spend_company']))\n",
    "print('Мода для Work_accident: ', statistics.mode(hr['Work_accident']))\n",
    "print('Мода для left: ', statistics.mode(hr['left']))\n",
    "print('Мода для promotion_last_5years: ', statistics.mode(hr['promotion_last_5years']))"
   ]
  },
  {
   "cell_type": "markdown",
   "metadata": {},
   "source": [
    "##### Минимум"
   ]
  },
  {
   "cell_type": "code",
   "execution_count": 59,
   "metadata": {},
   "outputs": [
    {
     "name": "stdout",
     "output_type": "stream",
     "text": [
      "Минимум для satisfaction_level:  0.09\n",
      "Минимум для last_evaluation:  0.36\n",
      "Минимум для number_project:  2\n",
      "Минимум для average_montly_hours:  96\n",
      "Минимум для time_spend_company:  2\n",
      "Минимум для Work_accident:  0\n",
      "Минимум для left:  0\n",
      "Минимум для promotion_last_5years:  0\n"
     ]
    }
   ],
   "source": [
    "print('Минимум для satisfaction_level: ', min(hr['satisfaction_level']))\n",
    "print('Минимум для last_evaluation: ', min(hr['last_evaluation']))\n",
    "print('Минимум для number_project: ', min(hr['number_project']))\n",
    "print('Минимум для average_montly_hours: ', min(hr['average_montly_hours']))\n",
    "print('Минимум для time_spend_company: ', min(hr['time_spend_company']))\n",
    "print('Минимум для Work_accident: ', min(hr['Work_accident']))\n",
    "print('Минимум для left: ', min(hr['left']))\n",
    "print('Минимум для promotion_last_5years: ', min(hr['promotion_last_5years']))"
   ]
  },
  {
   "cell_type": "markdown",
   "metadata": {},
   "source": [
    "##### Максимум"
   ]
  },
  {
   "cell_type": "code",
   "execution_count": 56,
   "metadata": {},
   "outputs": [
    {
     "name": "stdout",
     "output_type": "stream",
     "text": [
      "Максимум satisfaction_level:  1.0\n",
      "Максимум last_evaluation:  1.0\n",
      "Максимум number_project:  7\n",
      "Максимум average_montly_hours:  310\n",
      "Максимум time_spend_company:  10\n",
      "Максимум Work_accident:  1\n",
      "Максимум left:  1\n",
      "Максимум promotion_last_5years:  1\n"
     ]
    }
   ],
   "source": [
    "print('Максимум satisfaction_level: ', max(hr['satisfaction_level']))\n",
    "print('Максимум last_evaluation: ', max(hr['last_evaluation']))\n",
    "print('Максимум number_project: ', max(hr['number_project']))\n",
    "print('Максимум average_montly_hours: ', max(hr['average_montly_hours']))\n",
    "print('Максимум time_spend_company: ', max(hr['time_spend_company']))\n",
    "print('Максимум Work_accident: ', max(hr['Work_accident']))\n",
    "print('Максимум left: ', max(hr['left']))\n",
    "print('Максимум promotion_last_5years: ', max(hr['promotion_last_5years']))"
   ]
  },
  {
   "cell_type": "markdown",
   "metadata": {},
   "source": [
    "##### Среднее отклонение"
   ]
  },
  {
   "cell_type": "code",
   "execution_count": 61,
   "metadata": {},
   "outputs": [
    {
     "name": "stdout",
     "output_type": "stream",
     "text": [
      "Ср. отклонение для satisfaction_level:  0.2486223626820733\n",
      "Ср. отклонение для last_evaluation:  0.1711634045107436\n",
      "Ср. отклонение для number_project:  1.2325512654823438\n",
      "Ср. отклонение для average_montly_hours:  49.94143446256218\n",
      "Ср. отклонение для time_spend_company:  1.4600875552715114\n",
      "Ср. отклонение для Work_accident:  0.3517068274513532\n",
      "Ср. отклонение для left:  0.42590990072709495\n",
      "Ср. отклонение для promotion_last_5years:  0.14427665479561314\n"
     ]
    }
   ],
   "source": [
    "print('Ср. отклонение для satisfaction_level: ',statistics.pstdev(hr['satisfaction_level']))\n",
    "print('Ср. отклонение для last_evaluation: ',statistics.pstdev(hr['last_evaluation']))\n",
    "print('Ср. отклонение для number_project: ',statistics.pstdev(hr['number_project']))\n",
    "print('Ср. отклонение для average_montly_hours: ',statistics.pstdev(hr['average_montly_hours']))\n",
    "print('Ср. отклонение для time_spend_company: ',statistics.pstdev(hr['time_spend_company']))\n",
    "print('Ср. отклонение для Work_accident: ',statistics.pstdev(hr['Work_accident']))\n",
    "print('Ср. отклонение для left: ',statistics.pstdev(hr['left']))\n",
    "print('Ср. отклонение для promotion_last_5years: ',statistics.pstdev(hr['promotion_last_5years']))"
   ]
  },
  {
   "cell_type": "markdown",
   "metadata": {},
   "source": [
    "### 3. Рассчитать и визуализировать корреляционную матрицу для переменных"
   ]
  },
  {
   "cell_type": "code",
   "execution_count": 62,
   "metadata": {},
   "outputs": [
    {
     "data": {
      "text/html": [
       "<div>\n",
       "<style scoped>\n",
       "    .dataframe tbody tr th:only-of-type {\n",
       "        vertical-align: middle;\n",
       "    }\n",
       "\n",
       "    .dataframe tbody tr th {\n",
       "        vertical-align: top;\n",
       "    }\n",
       "\n",
       "    .dataframe thead th {\n",
       "        text-align: right;\n",
       "    }\n",
       "</style>\n",
       "<table border=\"1\" class=\"dataframe\">\n",
       "  <thead>\n",
       "    <tr style=\"text-align: right;\">\n",
       "      <th></th>\n",
       "      <th>satisfaction_level</th>\n",
       "      <th>last_evaluation</th>\n",
       "      <th>number_project</th>\n",
       "      <th>average_montly_hours</th>\n",
       "      <th>time_spend_company</th>\n",
       "      <th>Work_accident</th>\n",
       "      <th>left</th>\n",
       "      <th>promotion_last_5years</th>\n",
       "    </tr>\n",
       "  </thead>\n",
       "  <tbody>\n",
       "    <tr>\n",
       "      <td>satisfaction_level</td>\n",
       "      <td>1.000000</td>\n",
       "      <td>0.105021</td>\n",
       "      <td>-0.142970</td>\n",
       "      <td>-0.020048</td>\n",
       "      <td>-0.100866</td>\n",
       "      <td>0.058697</td>\n",
       "      <td>-0.388375</td>\n",
       "      <td>0.025605</td>\n",
       "    </tr>\n",
       "    <tr>\n",
       "      <td>last_evaluation</td>\n",
       "      <td>0.105021</td>\n",
       "      <td>1.000000</td>\n",
       "      <td>0.349333</td>\n",
       "      <td>0.339742</td>\n",
       "      <td>0.131591</td>\n",
       "      <td>-0.007104</td>\n",
       "      <td>0.006567</td>\n",
       "      <td>-0.008684</td>\n",
       "    </tr>\n",
       "    <tr>\n",
       "      <td>number_project</td>\n",
       "      <td>-0.142970</td>\n",
       "      <td>0.349333</td>\n",
       "      <td>1.000000</td>\n",
       "      <td>0.417211</td>\n",
       "      <td>0.196786</td>\n",
       "      <td>-0.004741</td>\n",
       "      <td>0.023787</td>\n",
       "      <td>-0.006064</td>\n",
       "    </tr>\n",
       "    <tr>\n",
       "      <td>average_montly_hours</td>\n",
       "      <td>-0.020048</td>\n",
       "      <td>0.339742</td>\n",
       "      <td>0.417211</td>\n",
       "      <td>1.000000</td>\n",
       "      <td>0.127755</td>\n",
       "      <td>-0.010143</td>\n",
       "      <td>0.071287</td>\n",
       "      <td>-0.003544</td>\n",
       "    </tr>\n",
       "    <tr>\n",
       "      <td>time_spend_company</td>\n",
       "      <td>-0.100866</td>\n",
       "      <td>0.131591</td>\n",
       "      <td>0.196786</td>\n",
       "      <td>0.127755</td>\n",
       "      <td>1.000000</td>\n",
       "      <td>0.002120</td>\n",
       "      <td>0.144822</td>\n",
       "      <td>0.067433</td>\n",
       "    </tr>\n",
       "    <tr>\n",
       "      <td>Work_accident</td>\n",
       "      <td>0.058697</td>\n",
       "      <td>-0.007104</td>\n",
       "      <td>-0.004741</td>\n",
       "      <td>-0.010143</td>\n",
       "      <td>0.002120</td>\n",
       "      <td>1.000000</td>\n",
       "      <td>-0.154622</td>\n",
       "      <td>0.039245</td>\n",
       "    </tr>\n",
       "    <tr>\n",
       "      <td>left</td>\n",
       "      <td>-0.388375</td>\n",
       "      <td>0.006567</td>\n",
       "      <td>0.023787</td>\n",
       "      <td>0.071287</td>\n",
       "      <td>0.144822</td>\n",
       "      <td>-0.154622</td>\n",
       "      <td>1.000000</td>\n",
       "      <td>-0.061788</td>\n",
       "    </tr>\n",
       "    <tr>\n",
       "      <td>promotion_last_5years</td>\n",
       "      <td>0.025605</td>\n",
       "      <td>-0.008684</td>\n",
       "      <td>-0.006064</td>\n",
       "      <td>-0.003544</td>\n",
       "      <td>0.067433</td>\n",
       "      <td>0.039245</td>\n",
       "      <td>-0.061788</td>\n",
       "      <td>1.000000</td>\n",
       "    </tr>\n",
       "  </tbody>\n",
       "</table>\n",
       "</div>"
      ],
      "text/plain": [
       "                       satisfaction_level  last_evaluation  number_project  \\\n",
       "satisfaction_level               1.000000         0.105021       -0.142970   \n",
       "last_evaluation                  0.105021         1.000000        0.349333   \n",
       "number_project                  -0.142970         0.349333        1.000000   \n",
       "average_montly_hours            -0.020048         0.339742        0.417211   \n",
       "time_spend_company              -0.100866         0.131591        0.196786   \n",
       "Work_accident                    0.058697        -0.007104       -0.004741   \n",
       "left                            -0.388375         0.006567        0.023787   \n",
       "promotion_last_5years            0.025605        -0.008684       -0.006064   \n",
       "\n",
       "                       average_montly_hours  time_spend_company  \\\n",
       "satisfaction_level                -0.020048           -0.100866   \n",
       "last_evaluation                    0.339742            0.131591   \n",
       "number_project                     0.417211            0.196786   \n",
       "average_montly_hours               1.000000            0.127755   \n",
       "time_spend_company                 0.127755            1.000000   \n",
       "Work_accident                     -0.010143            0.002120   \n",
       "left                               0.071287            0.144822   \n",
       "promotion_last_5years             -0.003544            0.067433   \n",
       "\n",
       "                       Work_accident      left  promotion_last_5years  \n",
       "satisfaction_level          0.058697 -0.388375               0.025605  \n",
       "last_evaluation            -0.007104  0.006567              -0.008684  \n",
       "number_project             -0.004741  0.023787              -0.006064  \n",
       "average_montly_hours       -0.010143  0.071287              -0.003544  \n",
       "time_spend_company          0.002120  0.144822               0.067433  \n",
       "Work_accident               1.000000 -0.154622               0.039245  \n",
       "left                       -0.154622  1.000000              -0.061788  \n",
       "promotion_last_5years       0.039245 -0.061788               1.000000  "
      ]
     },
     "execution_count": 62,
     "metadata": {},
     "output_type": "execute_result"
    }
   ],
   "source": [
    "hr.corr()"
   ]
  },
  {
   "cell_type": "code",
   "execution_count": 92,
   "metadata": {},
   "outputs": [
    {
     "data": {
      "image/png": "[encoded data removed]",
      "text/plain": [
       "<Figure size 1440x720 with 2 Axes>"
      ]
     },
     "metadata": {
      "needs_background": "light"
     },
     "output_type": "display_data"
    }
   ],
   "source": [
    "sns.heatmap(hr.corr(), annot=True, cmap='YlGn') \n",
    "\n",
    "tbl = plt.gcf()\n",
    "\n",
    "tbl.set_size_inches(20, 10)\n",
    "plt.show()"
   ]
  },
  {
   "cell_type": "markdown",
   "metadata": {},
   "source": [
    "### 4. Визуализировать несколько взаимосвязей между переменными"
   ]
  },
  {
   "cell_type": "markdown",
   "metadata": {},
   "source": [
    "### 5. С использованием t-test статистики проверить взаимосвязи между несколькими выборками (двумя или больше)"
   ]
  },
  {
   "cell_type": "markdown",
   "metadata": {},
   "source": [
    "### 6. Рассчитать сколько работников работает в каждом департаменте"
   ]
  },
  {
   "cell_type": "markdown",
   "metadata": {},
   "source": [
    "### 7. Показать распределение сотрудников по зарплатам"
   ]
  },
  {
   "cell_type": "markdown",
   "metadata": {},
   "source": [
    "### 8. Показать распределение сотрудников по зарплатам совместно с департаментами"
   ]
  },
  {
   "cell_type": "markdown",
   "metadata": {},
   "source": [
    "### 9. Сколько сотрудников покинули компанию"
   ]
  },
  {
   "cell_type": "markdown",
   "metadata": {},
   "source": [
    "### 10. Проверить несколько гипотез для данных, чтобы понять почему сотрудники покидают компанию"
   ]
  },
  {
   "cell_type": "markdown",
   "metadata": {},
   "source": [
    "### 11. Загрузить результат (в формате .ipynb ноутбука) в репозиторий. Разместить ссылку на репозиторий в лк на сайте"
   ]
  }
 ],
 "metadata": {
  "kernelspec": {
   "display_name": "Python 3",
   "language": "python",
   "name": "python3"
  },
  "language_info": {
   "codemirror_mode": {
    "name": "ipython",
    "version": 3
   },
   "file_extension": ".py",
   "mimetype": "text/x-python",
   "name": "python",
   "nbconvert_exporter": "python",
   "pygments_lexer": "ipython3",
   "version": "3.7.4"
  }
 },
 "nbformat": 4,
 "nbformat_minor": 2
}
